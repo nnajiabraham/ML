{
 "cells": [
  {
   "cell_type": "markdown",
   "metadata": {},
   "source": [
    "# Advanced Statistics and Hypothesis Testing"
   ]
  },
  {
   "cell_type": "markdown",
   "metadata": {},
   "source": [
    "## What is a hypothesis?"
   ]
  },
  {
   "cell_type": "markdown",
   "metadata": {},
   "source": [
    "It's a statement that proposes a possible explanation for an observed phenomenon or relationship in the data, which data scientists or statisticians can evaluate through investigation or hypothesis testing. \n",
    "\n",
    "Hypothesis Testing Process:\n",
    " \n",
    "![involves.PNG](https://s3.us-east-1.amazonaws.com/static2.simplilearn.com/lms/testpaper_images/ADSP/Advanced_Statistics/involves.PNG)\n"
   ]
  },
  {
   "cell_type": "markdown",
   "metadata": {},
   "source": [
    "## Hypothesis Components\n",
    "We have 2 components:\n",
    "![Linear1hypothes.png](https://s3.us-east-1.amazonaws.com/static2.simplilearn.com/lms/testpaper_images/ADSP/Advanced_Statistics/Linear1hypothes.png)"
   ]
  },
  {
   "cell_type": "markdown",
   "metadata": {},
   "source": [
    "**Example** If you don't clean your fish tank once every 3 days, the fish will probably not survive for more than 3 months:\n",
    "- **Independent Vairable** \"don't clean your fish tank once every 3 days\"\n",
    "- **Dependent Variable**  \"the fish will probably not survive for more than 3 months\"\n",
    "\n",
    "Other examples: If overall quality goes up (independent), the price goes up as well (dependent)."
   ]
  },
  {
   "cell_type": "markdown",
   "metadata": {},
   "source": [
    "A good hypothesis must:\n",
    "1. Explicitly state the **independent** and **dependent** variables \n",
    "2. Must be testable/reproducible\n",
    "3. Be based on authentic research work and sample collection"
   ]
  },
  {
   "cell_type": "markdown",
   "metadata": {},
   "source": [
    "## Hypothesis Testing\n",
    "- It's the statistical process of determining whether there's enough evidence in a sample of data or not (making sure a certain assessment holds true or not)\n",
    "- Key concepts of Hypothesis Testing:\n",
    "    - **Null Hypothesis** ($H_0$)\n",
    "        - It's a statement of no effect or no difference\n",
    "        - It's the default assumption that there's no change, difference, or relationship\n",
    "        - Example:\n",
    "            - There's no correlation between Overall Quality and Sale Price\n",
    "            - There's no difference between the average score of two different teaching methods\n",
    "    - **Alternative Hypothesis** ($H_a$ or $H_1$)\n",
    "        - It's the statement that you want to prove that there's a statistically significant evidence\n",
    "        - It's what you want to prove to be correct if you have an assumption \n",
    "        - Example:\n",
    "            - There's a correlation between Overall Quality and Sale Price\n",
    "            - There's a difference between the average score of two different teaching methods\n",
    "    - **Significance Level** $\\alpha$\n",
    "        - Is the probability for rejecting the null hypothesis\n",
    "        - In the industry, we usually use 0.05 or 5% (sometimes 0.01 or 1% for extremely confident results)\n",
    "    - **p-value** \n",
    "        - The probability of a statement from the sample being true\n",
    "    \n",
    "- Once we have all the components above defined, we can perform the Hypothesis Evaluation using the following steps:\n",
    "    1. Define the statement of the hypothesis\n",
    "    2. Format the statement into $H_0$ and $H_a$ ($H_0$ is always against your hypothesis)\n",
    "    3. Choose the appropriate statistical test:\n",
    "        - t-test\n",
    "        - z-test\n",
    "        - chi-square\n",
    "        - ANOVA\n",
    "        - Other: MANOVA or Mann-Whitney U test\n",
    "    4. Set the $\\alpha$ (typically 5%) can be set by you, your manager, stakeholders, or the company's standards\n",
    "    5. Calculate the _p-value_ using the appropriate statistical python function\n",
    "    6. Based on --value, you can run the following evaluation:\n",
    "        - If _p-value_ > $\\alpha$, we **do not reject the null hypothesis**\n",
    "        - If _p-value_ < $\\alpha$, we **do reject the null hypothesis** (in other words, we accept the **alternative hypothesis**)"
   ]
  },
  {
   "cell_type": "markdown",
   "metadata": {},
   "source": [
    "![h](https://userpage.fu-berlin.de/soga/soga-py/200/2070_hypothesis_tests/img/Generalized_figure_of_two_sided_test.png)"
   ]
  },
  {
   "cell_type": "markdown",
   "metadata": {},
   "source": [
    "## t-test\n",
    "### When to use?\n",
    "- For 2 numerical variables or 1 numerical variable against a population parameter (mean)\n",
    "- When the sample size is very small **(<=30)** OR the population's **standard deviation is unknown**\n",
    "\n",
    "### Types of t-tests:\n",
    "- **Independent sample t-test**: evaluation if 2 _independent, unrelated groups_ are different. e.g. a group that eats bananas have high levels of potassium vs a different group of people that doesn't eat bananas. \n",
    "    - For group 1 and group 2 we have:\n",
    "        - $H_0$: $\\mu_1 = \\mu_2$ (there's no difference)\n",
    "        - $H_a$: $\\mu_1 \\neq \\mu_2$\n",
    "- **Paired-sample t-test**: (relationship test) checks if the averages of 2 samples taken from the _same group_ are equal or not. It's mainly used for **before** and **after** analysis. .e.g Students that took an extra math session did better in their exam. You'e basically comparing the scores of the same students, just different state of time (before vs after)\n",
    "    - For the same group, before (b) vs after (a), we have:\n",
    "        - $H_0$: $\\mu_b = \\mu_a$ (there's no difference)\n",
    "        - $H_a$: $\\mu_b \\neq \\mu_a$\n",
    "- **One-Sample t-test:** it evaluates if the average of a single group (sample) is different than the known population average(X) e.g. if the null hypothesis states that the average diabetes level in the state of Georgia is 200. Then, we collect a sample of Georgia residents and measure to evaluate against the claim.\n",
    "    - For sample (a) and population mean (X):\n",
    "        - $H_0$: $\\mu_s = X$ (there's no difference)\n",
    "        - $H_a$: $\\mu_s \\neq X$"
   ]
  },
  {
   "cell_type": "markdown",
   "metadata": {},
   "source": [
    "`pip install scipy`"
   ]
  },
  {
   "cell_type": "code",
   "execution_count": 40,
   "metadata": {},
   "outputs": [],
   "source": [
    "import pandas as pd\n",
    "import numpy as np\n",
    "import scipy.stats as sts"
   ]
  },
  {
   "cell_type": "markdown",
   "metadata": {},
   "source": [
    "### Independent Sample t-test Exercise\n",
    "**Scenario: A/B Testing for New Website Functionality**\n",
    "\n",
    "Imagine you work for an e-commerce company, and your team is responsible for optimizing the company's website to increase user engagement and, ultimately, sales. The current design of the \"Buy Now\" button on the website is being tested against a new design to see if it leads to a higher conversion rate (or change in conversion rate)."
   ]
  },
  {
   "cell_type": "markdown",
   "metadata": {},
   "source": [
    "Methodology:\n",
    "1. Randomly select website users and split them into 2 groups A and B (independent groups)\n",
    "2. Give group A the old website (old button) and group B the new one\n",
    "3. Measure usage score\n",
    "4. Perform an independent statistical test whether there's a difference in the engagement or not"
   ]
  },
  {
   "cell_type": "markdown",
   "metadata": {},
   "source": [
    "- $H_0$: $\\mu_A = \\mu_B$ The new button is not making any difference in terms of usage (the old button is as effective as the new one)\n",
    "- $H_a$: $\\mu_A \\neq \\mu_B$ The new button is causing an impact on usage score"
   ]
  },
  {
   "cell_type": "code",
   "execution_count": 41,
   "metadata": {},
   "outputs": [
    {
     "data": {
      "text/html": [
       "<div>\n",
       "<style scoped>\n",
       "    .dataframe tbody tr th:only-of-type {\n",
       "        vertical-align: middle;\n",
       "    }\n",
       "\n",
       "    .dataframe tbody tr th {\n",
       "        vertical-align: top;\n",
       "    }\n",
       "\n",
       "    .dataframe thead th {\n",
       "        text-align: right;\n",
       "    }\n",
       "</style>\n",
       "<table border=\"1\" class=\"dataframe\">\n",
       "  <thead>\n",
       "    <tr style=\"text-align: right;\">\n",
       "      <th></th>\n",
       "      <th>Group_A</th>\n",
       "      <th>Group_B</th>\n",
       "    </tr>\n",
       "  </thead>\n",
       "  <tbody>\n",
       "    <tr>\n",
       "      <th>0</th>\n",
       "      <td>38</td>\n",
       "      <td>47</td>\n",
       "    </tr>\n",
       "    <tr>\n",
       "      <th>1</th>\n",
       "      <td>34</td>\n",
       "      <td>48</td>\n",
       "    </tr>\n",
       "    <tr>\n",
       "      <th>2</th>\n",
       "      <td>35</td>\n",
       "      <td>50</td>\n",
       "    </tr>\n",
       "    <tr>\n",
       "      <th>3</th>\n",
       "      <td>35</td>\n",
       "      <td>49</td>\n",
       "    </tr>\n",
       "    <tr>\n",
       "      <th>4</th>\n",
       "      <td>35</td>\n",
       "      <td>46</td>\n",
       "    </tr>\n",
       "  </tbody>\n",
       "</table>\n",
       "</div>"
      ],
      "text/plain": [
       "   Group_A  Group_B\n",
       "0       38       47\n",
       "1       34       48\n",
       "2       35       50\n",
       "3       35       49\n",
       "4       35       46"
      ]
     },
     "execution_count": 41,
     "metadata": {},
     "output_type": "execute_result"
    }
   ],
   "source": [
    "df = pd.read_csv('/Users/bassel_instructor/Documents/Datasets/AB_Testing_Website.csv')\n",
    "df.head()"
   ]
  },
  {
   "cell_type": "code",
   "execution_count": 42,
   "metadata": {},
   "outputs": [
    {
     "name": "stdout",
     "output_type": "stream",
     "text": [
      "8.2568977246166655e-22\n"
     ]
    }
   ],
   "source": [
    "# run the t-test analysis\n",
    "t_stat, p_val = sts.ttest_ind(df['Group_A'], df['Group_B'])\n",
    "\n",
    "print(p_val)"
   ]
  },
  {
   "cell_type": "code",
   "execution_count": 43,
   "metadata": {},
   "outputs": [],
   "source": [
    "# critical value of 5%\n",
    "alpha = 0.05"
   ]
  },
  {
   "cell_type": "code",
   "execution_count": 44,
   "metadata": {},
   "outputs": [
    {
     "name": "stdout",
     "output_type": "stream",
     "text": [
      "We reject the null hypothesis. Therefore, there is an impact on the usage from the new button.\n"
     ]
    }
   ],
   "source": [
    "#evaluation logic\n",
    "if p_val > alpha:\n",
    "    print('We do not reject the null hypothesis. Therefore, there is no impact on the usage from the new button.')\n",
    "else:\n",
    "    print('We reject the null hypothesis. Therefore, there is an impact on the usage from the new button.')"
   ]
  },
  {
   "cell_type": "markdown",
   "metadata": {},
   "source": [
    "What if we want to test if the functionality is causing better engagement score (not just in-equal)"
   ]
  },
  {
   "cell_type": "markdown",
   "metadata": {},
   "source": [
    "![hy](https://mverbakel.github.io/assets/one_vs_two_sided.png)"
   ]
  },
  {
   "cell_type": "markdown",
   "metadata": {},
   "source": [
    "Then, the hypotheses definitions become:\n",
    "- $H_0$: $\\mu_A = \\mu_B$ The new button is not making any difference in terms of usage (the old button is as effective as the new one)\n",
    "- $H_a$: $\\mu_B > \\mu_A$ The new button is causing a positive impact on usage score"
   ]
  },
  {
   "cell_type": "code",
   "execution_count": 45,
   "metadata": {},
   "outputs": [
    {
     "name": "stdout",
     "output_type": "stream",
     "text": [
      "We reject the null hypothesis. Therefore, group B is causing better usage score.\n"
     ]
    }
   ],
   "source": [
    "t_stat, p_val = sts.ttest_ind(df['Group_B'], df['Group_A'], alternative='greater')\n",
    "\n",
    "#evaluation logic\n",
    "if p_val > alpha:\n",
    "    print('We do not reject the null hypothesis. ')\n",
    "else:\n",
    "    print('We reject the null hypothesis. Therefore, group B is causing better usage score.')"
   ]
  },
  {
   "cell_type": "markdown",
   "metadata": {},
   "source": [
    "> for ease of use, we can build a generalized hypothesis evaluation function to tell us whether we reject or accept the null hypotheiss."
   ]
  },
  {
   "cell_type": "code",
   "execution_count": 46,
   "metadata": {},
   "outputs": [],
   "source": [
    "def HypoTesting(p_val, alpha=0.05): #default to alpha = 5%, but can be changed by the user\n",
    "    if p_val > alpha:\n",
    "        print('We do not reject the null hypothesis.')\n",
    "    else:\n",
    "        print('We reject the null hypothesis.')"
   ]
  },
  {
   "cell_type": "markdown",
   "metadata": {},
   "source": [
    "### Paired-sample t-test:"
   ]
  },
  {
   "cell_type": "markdown",
   "metadata": {},
   "source": [
    "**Example** </br>\n",
    "For a particular hospital, it is advertised that a particular chemotherapy session does not affect the patient's health \n",
    "based on blood pressure (BP).\n",
    "It is to be checked if the BP before the treatment is equivalent to the BP after the treatment for the same patients.\n",
    "Perform a statistical significance at alpha=0.05 to help validate the claim."
   ]
  },
  {
   "cell_type": "markdown",
   "metadata": {},
   "source": [
    "For the same group, before (b) vs after (a), we have:\n",
    "- $H_0$: $\\mu_b = \\mu_a$ (there's no difference)\n",
    "- $H_a$: $\\mu_b \\neq \\mu_a$ (blood pressure is changing after chemo)"
   ]
  },
  {
   "cell_type": "code",
   "execution_count": 47,
   "metadata": {},
   "outputs": [
    {
     "data": {
      "text/html": [
       "<div>\n",
       "<style scoped>\n",
       "    .dataframe tbody tr th:only-of-type {\n",
       "        vertical-align: middle;\n",
       "    }\n",
       "\n",
       "    .dataframe tbody tr th {\n",
       "        vertical-align: top;\n",
       "    }\n",
       "\n",
       "    .dataframe thead th {\n",
       "        text-align: right;\n",
       "    }\n",
       "</style>\n",
       "<table border=\"1\" class=\"dataframe\">\n",
       "  <thead>\n",
       "    <tr style=\"text-align: right;\">\n",
       "      <th></th>\n",
       "      <th>patient</th>\n",
       "      <th>sex</th>\n",
       "      <th>agegrp</th>\n",
       "      <th>bp_before</th>\n",
       "      <th>bp_after</th>\n",
       "    </tr>\n",
       "  </thead>\n",
       "  <tbody>\n",
       "    <tr>\n",
       "      <th>0</th>\n",
       "      <td>1</td>\n",
       "      <td>Male</td>\n",
       "      <td>30-45</td>\n",
       "      <td>143</td>\n",
       "      <td>153</td>\n",
       "    </tr>\n",
       "    <tr>\n",
       "      <th>1</th>\n",
       "      <td>2</td>\n",
       "      <td>Male</td>\n",
       "      <td>30-45</td>\n",
       "      <td>163</td>\n",
       "      <td>170</td>\n",
       "    </tr>\n",
       "    <tr>\n",
       "      <th>2</th>\n",
       "      <td>3</td>\n",
       "      <td>Male</td>\n",
       "      <td>30-45</td>\n",
       "      <td>153</td>\n",
       "      <td>168</td>\n",
       "    </tr>\n",
       "    <tr>\n",
       "      <th>3</th>\n",
       "      <td>4</td>\n",
       "      <td>Male</td>\n",
       "      <td>30-45</td>\n",
       "      <td>153</td>\n",
       "      <td>142</td>\n",
       "    </tr>\n",
       "    <tr>\n",
       "      <th>4</th>\n",
       "      <td>5</td>\n",
       "      <td>Male</td>\n",
       "      <td>30-45</td>\n",
       "      <td>146</td>\n",
       "      <td>141</td>\n",
       "    </tr>\n",
       "  </tbody>\n",
       "</table>\n",
       "</div>"
      ],
      "text/plain": [
       "   patient   sex agegrp  bp_before  bp_after\n",
       "0        1  Male  30-45        143       153\n",
       "1        2  Male  30-45        163       170\n",
       "2        3  Male  30-45        153       168\n",
       "3        4  Male  30-45        153       142\n",
       "4        5  Male  30-45        146       141"
      ]
     },
     "execution_count": 47,
     "metadata": {},
     "output_type": "execute_result"
    }
   ],
   "source": [
    "df = pd.read_csv('/Users/bassel_instructor/Documents/Datasets/blood_pressure.csv')\n",
    "df.head()"
   ]
  },
  {
   "cell_type": "code",
   "execution_count": 48,
   "metadata": {},
   "outputs": [
    {
     "name": "stdout",
     "output_type": "stream",
     "text": [
      "We reject the null hypothesis.\n"
     ]
    }
   ],
   "source": [
    "t_stat, p_val = sts.ttest_rel(df['bp_before'], df['bp_after'])\n",
    "\n",
    "HypoTesting(p_val)"
   ]
  },
  {
   "cell_type": "markdown",
   "metadata": {},
   "source": [
    "We reject the null hypothesis. Therefore, the blood pressure of the studied group is impacted after getting chemo. "
   ]
  },
  {
   "cell_type": "markdown",
   "metadata": {},
   "source": [
    "## One-sample t-test"
   ]
  },
  {
   "cell_type": "markdown",
   "metadata": {},
   "source": [
    "For a particular organization, the average age of the employees was claimed to be 30 years.\n",
    "The authorities collected a random sample of 10 employees' age data to check the claim made by the organization.\n",
    "Construct a hypothesis test to validate the hypothesis at a significance level of 5%."
   ]
  },
  {
   "cell_type": "markdown",
   "metadata": {},
   "source": [
    "- For sample (s) and population mean (X):\n",
    "    - $H_0$: $\\mu_s = X$ (there's no difference and the claim made by the organization is true)\n",
    "    - $H_a$: $\\mu_s \\neq X$"
   ]
  },
  {
   "cell_type": "code",
   "execution_count": 49,
   "metadata": {},
   "outputs": [
    {
     "data": {
      "text/html": [
       "<div>\n",
       "<style scoped>\n",
       "    .dataframe tbody tr th:only-of-type {\n",
       "        vertical-align: middle;\n",
       "    }\n",
       "\n",
       "    .dataframe tbody tr th {\n",
       "        vertical-align: top;\n",
       "    }\n",
       "\n",
       "    .dataframe thead th {\n",
       "        text-align: right;\n",
       "    }\n",
       "</style>\n",
       "<table border=\"1\" class=\"dataframe\">\n",
       "  <thead>\n",
       "    <tr style=\"text-align: right;\">\n",
       "      <th></th>\n",
       "      <th>ages</th>\n",
       "    </tr>\n",
       "  </thead>\n",
       "  <tbody>\n",
       "    <tr>\n",
       "      <th>0</th>\n",
       "      <td>34</td>\n",
       "    </tr>\n",
       "    <tr>\n",
       "      <th>1</th>\n",
       "      <td>45</td>\n",
       "    </tr>\n",
       "    <tr>\n",
       "      <th>2</th>\n",
       "      <td>65</td>\n",
       "    </tr>\n",
       "    <tr>\n",
       "      <th>3</th>\n",
       "      <td>78</td>\n",
       "    </tr>\n",
       "    <tr>\n",
       "      <th>4</th>\n",
       "      <td>32</td>\n",
       "    </tr>\n",
       "  </tbody>\n",
       "</table>\n",
       "</div>"
      ],
      "text/plain": [
       "   ages\n",
       "0    34\n",
       "1    45\n",
       "2    65\n",
       "3    78\n",
       "4    32"
      ]
     },
     "execution_count": 49,
     "metadata": {},
     "output_type": "execute_result"
    }
   ],
   "source": [
    "df = pd.read_csv('/Users/bassel_instructor/Documents/Datasets/Ages.csv')\n",
    "df.head()"
   ]
  },
  {
   "cell_type": "code",
   "execution_count": 50,
   "metadata": {},
   "outputs": [],
   "source": [
    "t_stat, p_val = sts.ttest_1samp(df['ages'], popmean=30)"
   ]
  },
  {
   "cell_type": "code",
   "execution_count": 51,
   "metadata": {},
   "outputs": [
    {
     "name": "stdout",
     "output_type": "stream",
     "text": [
      "We reject the null hypothesis.\n"
     ]
    }
   ],
   "source": [
    "HypoTesting(p_val)"
   ]
  },
  {
   "cell_type": "markdown",
   "metadata": {},
   "source": [
    "Since we reject the null hypothesis, we can say that the old information about population average age is not accurate."
   ]
  },
  {
   "cell_type": "markdown",
   "metadata": {},
   "source": [
    "## z-test"
   ]
  },
  {
   "cell_type": "markdown",
   "metadata": {},
   "source": [
    "When to use?\n",
    "- For 2 numerical variables or 1 numerical variable against the population parameters (mean)\n",
    "- When the sample size is large (>30) AND the standard deviation of the population is known"
   ]
  },
  {
   "cell_type": "markdown",
   "metadata": {},
   "source": [
    "**Exercise**\n",
    " \n",
    "A school principal claims that the students in his school are more intelligent than those of other schools. A random sample of 50 students' IQ scores has a mean score of 110. The mean population IQ is 100 with a Standard deviation of 15. State whether the claim of the principal is right or not at a 5% significance level."
   ]
  },
  {
   "cell_type": "markdown",
   "metadata": {},
   "source": [
    "1. Define the hypothesis statement:\n",
    "- $H_0$: $\\mu_s = X$ There's no difference/change for the average IQ between the principal's school and other schools. (the principal's statement is incorrect)\n",
    "- $H_a$: $\\mu_s \\neq X$"
   ]
  },
  {
   "cell_type": "code",
   "execution_count": 52,
   "metadata": {},
   "outputs": [],
   "source": [
    "#extract information - givens\n",
    "\n",
    "#evaluation info\n",
    "alpha = 0.05\n",
    "\n",
    "#population info (parameters)\n",
    "pop_mean = 100\n",
    "pop_sd = 15\n",
    "\n",
    "#sample info (statistics)\n",
    "sam_mean = 110\n",
    "sam_size = 50"
   ]
  },
  {
   "cell_type": "markdown",
   "metadata": {},
   "source": [
    "2. Observations\n",
    "- we don't have access to the sample data. However, we have information about it and its population.\n",
    "- Therefore, we can use the parameters and statistics to generate sample data for the students assuming a normal distribution\n",
    "- Another piece of information that's missing is the **sample standard deviation**\n",
    "- We can use the sample standard deviation formula from the population info"
   ]
  },
  {
   "cell_type": "markdown",
   "metadata": {},
   "source": [
    "![Sd](https://uedufy.com/wp-content/uploads/2022/03/image-3.png)"
   ]
  },
  {
   "cell_type": "markdown",
   "metadata": {},
   "source": [
    "$\\sigma$ = population standard deviation\n",
    " \n",
    "$\\N$ = sample size"
   ]
  },
  {
   "cell_type": "markdown",
   "metadata": {},
   "source": [
    "3. Calculate the Standard Deviation of the Sample"
   ]
  },
  {
   "cell_type": "code",
   "execution_count": 53,
   "metadata": {},
   "outputs": [
    {
     "name": "stdout",
     "output_type": "stream",
     "text": [
      "SD of the sample: 2.1213203435596424\n"
     ]
    }
   ],
   "source": [
    "import math\n",
    "\n",
    "sam_sd = pop_sd/math.sqrt(sam_size)\n",
    "print('SD of the sample:', sam_sd)"
   ]
  },
  {
   "cell_type": "markdown",
   "metadata": {},
   "source": [
    "4. Generate a normally distributed sample data based on the derived or given statistics"
   ]
  },
  {
   "cell_type": "code",
   "execution_count": 54,
   "metadata": {},
   "outputs": [
    {
     "data": {
      "text/plain": [
       "array([105.81919708, 109.37734456, 112.16245606, 114.00187584,\n",
       "       110.52057077, 110.54452379, 112.31353327, 111.66194612,\n",
       "       110.00774062, 113.35047938, 112.86279587, 108.25787205,\n",
       "       113.15110548, 104.05061831, 110.12111386, 106.66979331,\n",
       "       110.93997102, 111.87157224, 110.40263406, 105.1057555 ,\n",
       "       107.56141168, 109.35424759, 110.19275138, 111.461068  ,\n",
       "       109.25779142, 110.64585893, 108.50179673, 107.88963398,\n",
       "       110.53553366, 108.16201739, 108.48601102, 111.28676094,\n",
       "       109.14829187, 109.86695485, 110.64049683, 115.56764073,\n",
       "       108.91088344, 109.60258369, 112.51681915, 111.44895272,\n",
       "       110.25578264, 111.80823517, 110.02375733, 108.31194174,\n",
       "       117.09251563, 109.25468438, 107.88180797, 110.86399702,\n",
       "       107.88155996, 108.71154781])"
      ]
     },
     "execution_count": 54,
     "metadata": {},
     "output_type": "execute_result"
    }
   ],
   "source": [
    "student_sample = np.random.normal(loc=sam_mean, scale=sam_sd, size=sam_size)\n",
    "student_sample"
   ]
  },
  {
   "cell_type": "code",
   "execution_count": 55,
   "metadata": {},
   "outputs": [
    {
     "data": {
      "text/plain": [
       "50"
      ]
     },
     "execution_count": 55,
     "metadata": {},
     "output_type": "execute_result"
    }
   ],
   "source": [
    "len(student_sample)"
   ]
  },
  {
   "cell_type": "code",
   "execution_count": 56,
   "metadata": {},
   "outputs": [
    {
     "data": {
      "text/plain": [
       "110.12632469690803"
      ]
     },
     "execution_count": 56,
     "metadata": {},
     "output_type": "execute_result"
    }
   ],
   "source": [
    "np.mean(student_sample)"
   ]
  },
  {
   "cell_type": "markdown",
   "metadata": {},
   "source": [
    "`pip install statsmodels`"
   ]
  },
  {
   "cell_type": "markdown",
   "metadata": {},
   "source": [
    "5. Run the statistical evaluation"
   ]
  },
  {
   "cell_type": "code",
   "execution_count": 57,
   "metadata": {},
   "outputs": [],
   "source": [
    "from statsmodels.stats.weightstats import ztest"
   ]
  },
  {
   "cell_type": "code",
   "execution_count": 58,
   "metadata": {},
   "outputs": [],
   "source": [
    "z_stat, p_val = ztest(student_sample, value=pop_mean)"
   ]
  },
  {
   "cell_type": "code",
   "execution_count": 59,
   "metadata": {},
   "outputs": [
    {
     "name": "stdout",
     "output_type": "stream",
     "text": [
      "We reject the null hypothesis.\n"
     ]
    }
   ],
   "source": [
    "HypoTesting(p_val)"
   ]
  },
  {
   "cell_type": "markdown",
   "metadata": {},
   "source": [
    "I think principal could be correct. school intelligence could be better or worse"
   ]
  },
  {
   "cell_type": "markdown",
   "metadata": {},
   "source": [
    "Let's investigate further and find out if its greater or smaller."
   ]
  },
  {
   "cell_type": "markdown",
   "metadata": {},
   "source": [
    "- $H_0$: $\\mu_s = X$ There's no difference/change for the average IQ between the principal's school and other schools. (the principal's statement is incorrect)\n",
    "- $H_a$: $\\mu_s > X$ The principal's claim is correct"
   ]
  },
  {
   "cell_type": "code",
   "execution_count": 60,
   "metadata": {},
   "outputs": [
    {
     "name": "stdout",
     "output_type": "stream",
     "text": [
      "We reject the null hypothesis.\n"
     ]
    }
   ],
   "source": [
    "z_stat, p_val = ztest(student_sample, value=pop_mean, alternative='larger')\n",
    "HypoTesting(p_val)"
   ]
  },
  {
   "cell_type": "markdown",
   "metadata": {},
   "source": [
    "We reject the null hypothesis. Therefore, the principal's claim is correct."
   ]
  },
  {
   "cell_type": "markdown",
   "metadata": {},
   "source": [
    "## Chi-square Test"
   ]
  },
  {
   "cell_type": "markdown",
   "metadata": {},
   "source": [
    "![c](https://www.easysevens.com/wp-content/uploads/2024/01/Chi-Squared-Distribution.png)"
   ]
  },
  {
   "cell_type": "markdown",
   "metadata": {},
   "source": [
    "- Chi-square distribution $\\chi^2$ is a continuous probability \n",
    "- It's used for hypothesis testing and relationship test\n",
    "- Null vs Alternative Hypothesis:\n",
    "    - $H_0$: There is no relationship between the two variables\n",
    "    - $H_a$: There is a relationship "
   ]
  },
  {
   "cell_type": "markdown",
   "metadata": {},
   "source": [
    "**Example**\n",
    " \n",
    "Let's say we gathered a survey for favorite car color between men and women. We want to find out if there's an association between gender and favorite car color."
   ]
  },
  {
   "cell_type": "markdown",
   "metadata": {},
   "source": [
    "- $H_0$: There is no relationship between gender and favorite car color\n",
    "- $H_a$: There is a relationship "
   ]
  },
  {
   "cell_type": "code",
   "execution_count": 61,
   "metadata": {},
   "outputs": [
    {
     "data": {
      "text/html": [
       "<div>\n",
       "<style scoped>\n",
       "    .dataframe tbody tr th:only-of-type {\n",
       "        vertical-align: middle;\n",
       "    }\n",
       "\n",
       "    .dataframe tbody tr th {\n",
       "        vertical-align: top;\n",
       "    }\n",
       "\n",
       "    .dataframe thead th {\n",
       "        text-align: right;\n",
       "    }\n",
       "</style>\n",
       "<table border=\"1\" class=\"dataframe\">\n",
       "  <thead>\n",
       "    <tr style=\"text-align: right;\">\n",
       "      <th></th>\n",
       "      <th>Gender</th>\n",
       "      <th>Car Color</th>\n",
       "    </tr>\n",
       "  </thead>\n",
       "  <tbody>\n",
       "    <tr>\n",
       "      <th>0</th>\n",
       "      <td>M</td>\n",
       "      <td>Black</td>\n",
       "    </tr>\n",
       "    <tr>\n",
       "      <th>1</th>\n",
       "      <td>M</td>\n",
       "      <td>Silver</td>\n",
       "    </tr>\n",
       "    <tr>\n",
       "      <th>2</th>\n",
       "      <td>M</td>\n",
       "      <td>Red</td>\n",
       "    </tr>\n",
       "    <tr>\n",
       "      <th>3</th>\n",
       "      <td>M</td>\n",
       "      <td>Black</td>\n",
       "    </tr>\n",
       "    <tr>\n",
       "      <th>4</th>\n",
       "      <td>M</td>\n",
       "      <td>Black</td>\n",
       "    </tr>\n",
       "  </tbody>\n",
       "</table>\n",
       "</div>"
      ],
      "text/plain": [
       "  Gender Car Color\n",
       "0      M     Black\n",
       "1      M    Silver\n",
       "2      M       Red\n",
       "3      M     Black\n",
       "4      M     Black"
      ]
     },
     "execution_count": 61,
     "metadata": {},
     "output_type": "execute_result"
    }
   ],
   "source": [
    "df = pd.read_csv('/Users/bassel_instructor/Documents/Datasets/Shopping.csv')\n",
    "df.head()"
   ]
  },
  {
   "cell_type": "code",
   "execution_count": 62,
   "metadata": {},
   "outputs": [
    {
     "data": {
      "text/plain": [
       "Gender\n",
       "F    55\n",
       "M    49\n",
       "Name: count, dtype: int64"
      ]
     },
     "execution_count": 62,
     "metadata": {},
     "output_type": "execute_result"
    }
   ],
   "source": [
    "#use value counts to confirm we have both M and F with equal/close distribution\n",
    "df['Gender'].value_counts()"
   ]
  },
  {
   "cell_type": "code",
   "execution_count": 63,
   "metadata": {},
   "outputs": [
    {
     "data": {
      "text/plain": [
       "Car Color\n",
       "Black     31\n",
       "Silver    24\n",
       "Pink      24\n",
       "White     16\n",
       "Red        9\n",
       "Name: count, dtype: int64"
      ]
     },
     "execution_count": 63,
     "metadata": {},
     "output_type": "execute_result"
    }
   ],
   "source": [
    "df['Car Color'].value_counts()"
   ]
  },
  {
   "cell_type": "markdown",
   "metadata": {},
   "source": [
    "Step 1: Build a crosstab (contingency table)"
   ]
  },
  {
   "cell_type": "code",
   "execution_count": 64,
   "metadata": {},
   "outputs": [
    {
     "data": {
      "text/html": [
       "<div>\n",
       "<style scoped>\n",
       "    .dataframe tbody tr th:only-of-type {\n",
       "        vertical-align: middle;\n",
       "    }\n",
       "\n",
       "    .dataframe tbody tr th {\n",
       "        vertical-align: top;\n",
       "    }\n",
       "\n",
       "    .dataframe thead th {\n",
       "        text-align: right;\n",
       "    }\n",
       "</style>\n",
       "<table border=\"1\" class=\"dataframe\">\n",
       "  <thead>\n",
       "    <tr style=\"text-align: right;\">\n",
       "      <th>Car Color</th>\n",
       "      <th>Black</th>\n",
       "      <th>Pink</th>\n",
       "      <th>Red</th>\n",
       "      <th>Silver</th>\n",
       "      <th>White</th>\n",
       "    </tr>\n",
       "    <tr>\n",
       "      <th>Gender</th>\n",
       "      <th></th>\n",
       "      <th></th>\n",
       "      <th></th>\n",
       "      <th></th>\n",
       "      <th></th>\n",
       "    </tr>\n",
       "  </thead>\n",
       "  <tbody>\n",
       "    <tr>\n",
       "      <th>F</th>\n",
       "      <td>9</td>\n",
       "      <td>22</td>\n",
       "      <td>2</td>\n",
       "      <td>8</td>\n",
       "      <td>14</td>\n",
       "    </tr>\n",
       "    <tr>\n",
       "      <th>M</th>\n",
       "      <td>22</td>\n",
       "      <td>2</td>\n",
       "      <td>7</td>\n",
       "      <td>16</td>\n",
       "      <td>2</td>\n",
       "    </tr>\n",
       "  </tbody>\n",
       "</table>\n",
       "</div>"
      ],
      "text/plain": [
       "Car Color  Black  Pink  Red  Silver  White\n",
       "Gender                                    \n",
       "F              9    22    2       8     14\n",
       "M             22     2    7      16      2"
      ]
     },
     "execution_count": 64,
     "metadata": {},
     "output_type": "execute_result"
    }
   ],
   "source": [
    "cont_table = pd.crosstab(df['Gender'], df['Car Color'])\n",
    "cont_table"
   ]
  },
  {
   "cell_type": "markdown",
   "metadata": {},
   "source": [
    "Step 2: using the `ch2_contingency` function, calculate the p-value"
   ]
  },
  {
   "cell_type": "markdown",
   "metadata": {},
   "source": [
    "The result is an object(numpy array) containing attributes:\n",
    "- statistic: float - The test statistic.\n",
    "- p-value: float - The p-value of the test.\n",
    "- dof: int - The degrees of freedom.\n",
    "- expected_freq: ndarray, same shape as observed. The expected frequencies, based on the marginal sums of the table."
   ]
  },
  {
   "cell_type": "code",
   "execution_count": 65,
   "metadata": {},
   "outputs": [],
   "source": [
    "chi_stat, p_val, dof, exp_freq = sts.chi2_contingency(cont_table)"
   ]
  },
  {
   "cell_type": "markdown",
   "metadata": {},
   "source": [
    "Step 3: Run the p-value vs alpha evaluation"
   ]
  },
  {
   "cell_type": "code",
   "execution_count": 66,
   "metadata": {},
   "outputs": [
    {
     "name": "stdout",
     "output_type": "stream",
     "text": [
      "We reject the null hypothesis.\n"
     ]
    }
   ],
   "source": [
    "HypoTesting(p_val)"
   ]
  },
  {
   "cell_type": "markdown",
   "metadata": {},
   "source": [
    "- We reject the null hypothesis. Therefore, there's a relationship between car color and gender.\n",
    "- We can double check that by inspecting the expected frequency table."
   ]
  },
  {
   "cell_type": "markdown",
   "metadata": {},
   "source": [
    "> You can stop here. The following is for educational purposes."
   ]
  },
  {
   "cell_type": "markdown",
   "metadata": {},
   "source": [
    "The expected frequency table tells us what the data should look like if there is NO relationship."
   ]
  },
  {
   "cell_type": "code",
   "execution_count": 67,
   "metadata": {},
   "outputs": [
    {
     "data": {
      "text/plain": [
       "array([[16.39423077, 12.69230769,  4.75961538, 12.69230769,  8.46153846],\n",
       "       [14.60576923, 11.30769231,  4.24038462, 11.30769231,  7.53846154]])"
      ]
     },
     "execution_count": 67,
     "metadata": {},
     "output_type": "execute_result"
    }
   ],
   "source": [
    "exp_freq"
   ]
  },
  {
   "cell_type": "code",
   "execution_count": 68,
   "metadata": {},
   "outputs": [
    {
     "data": {
      "text/html": [
       "<div>\n",
       "<style scoped>\n",
       "    .dataframe tbody tr th:only-of-type {\n",
       "        vertical-align: middle;\n",
       "    }\n",
       "\n",
       "    .dataframe tbody tr th {\n",
       "        vertical-align: top;\n",
       "    }\n",
       "\n",
       "    .dataframe thead th {\n",
       "        text-align: right;\n",
       "    }\n",
       "</style>\n",
       "<table border=\"1\" class=\"dataframe\">\n",
       "  <thead>\n",
       "    <tr style=\"text-align: right;\">\n",
       "      <th></th>\n",
       "      <th>Black</th>\n",
       "      <th>Silver</th>\n",
       "      <th>Red</th>\n",
       "      <th>White</th>\n",
       "      <th>Pink</th>\n",
       "    </tr>\n",
       "  </thead>\n",
       "  <tbody>\n",
       "    <tr>\n",
       "      <th>M</th>\n",
       "      <td>16.394231</td>\n",
       "      <td>12.692308</td>\n",
       "      <td>4.759615</td>\n",
       "      <td>12.692308</td>\n",
       "      <td>8.461538</td>\n",
       "    </tr>\n",
       "    <tr>\n",
       "      <th>F</th>\n",
       "      <td>14.605769</td>\n",
       "      <td>11.307692</td>\n",
       "      <td>4.240385</td>\n",
       "      <td>11.307692</td>\n",
       "      <td>7.538462</td>\n",
       "    </tr>\n",
       "  </tbody>\n",
       "</table>\n",
       "</div>"
      ],
      "text/plain": [
       "       Black     Silver       Red      White      Pink\n",
       "M  16.394231  12.692308  4.759615  12.692308  8.461538\n",
       "F  14.605769  11.307692  4.240385  11.307692  7.538462"
      ]
     },
     "execution_count": 68,
     "metadata": {},
     "output_type": "execute_result"
    }
   ],
   "source": [
    "exp_freq_df = pd.DataFrame(data=exp_freq,\n",
    "                           index=df['Gender'].unique(),\n",
    "                           columns=df['Car Color'].unique())\n",
    "\n",
    "exp_freq_df"
   ]
  },
  {
   "cell_type": "code",
   "execution_count": 69,
   "metadata": {},
   "outputs": [
    {
     "data": {
      "text/html": [
       "<div>\n",
       "<style scoped>\n",
       "    .dataframe tbody tr th:only-of-type {\n",
       "        vertical-align: middle;\n",
       "    }\n",
       "\n",
       "    .dataframe tbody tr th {\n",
       "        vertical-align: top;\n",
       "    }\n",
       "\n",
       "    .dataframe thead th {\n",
       "        text-align: right;\n",
       "    }\n",
       "</style>\n",
       "<table border=\"1\" class=\"dataframe\">\n",
       "  <thead>\n",
       "    <tr style=\"text-align: right;\">\n",
       "      <th>Car Color</th>\n",
       "      <th>Black</th>\n",
       "      <th>Pink</th>\n",
       "      <th>Red</th>\n",
       "      <th>Silver</th>\n",
       "      <th>White</th>\n",
       "    </tr>\n",
       "    <tr>\n",
       "      <th>Gender</th>\n",
       "      <th></th>\n",
       "      <th></th>\n",
       "      <th></th>\n",
       "      <th></th>\n",
       "      <th></th>\n",
       "    </tr>\n",
       "  </thead>\n",
       "  <tbody>\n",
       "    <tr>\n",
       "      <th>F</th>\n",
       "      <td>9</td>\n",
       "      <td>22</td>\n",
       "      <td>2</td>\n",
       "      <td>8</td>\n",
       "      <td>14</td>\n",
       "    </tr>\n",
       "    <tr>\n",
       "      <th>M</th>\n",
       "      <td>22</td>\n",
       "      <td>2</td>\n",
       "      <td>7</td>\n",
       "      <td>16</td>\n",
       "      <td>2</td>\n",
       "    </tr>\n",
       "  </tbody>\n",
       "</table>\n",
       "</div>"
      ],
      "text/plain": [
       "Car Color  Black  Pink  Red  Silver  White\n",
       "Gender                                    \n",
       "F              9    22    2       8     14\n",
       "M             22     2    7      16      2"
      ]
     },
     "execution_count": 69,
     "metadata": {},
     "output_type": "execute_result"
    }
   ],
   "source": [
    "cont_table"
   ]
  },
  {
   "cell_type": "markdown",
   "metadata": {},
   "source": [
    "## ANOVA\n",
    "- Analysis of Variance\n",
    "- It assesses whether the means of multiple groups are statistically significant from each other or not.\n",
    "- t-test and z-test are limited to 2 variables/groups for evaluation - ANOVA can do 2 or more\n",
    "- The statistical result of the ANOVA is called f-statistic (named after the mathematician Fischer)\n",
    "- Types:\n",
    "    - **One-way ANOVA** deals with one factor/measure for multiple groups. e.g. student IQ (factor) for 3 different class groups.\n",
    "    - **Two-way ANOVA** deals with two factors/measures for multiple groups. e.g. student IQ and age (factors) for 3 different class groups.\n",
    "    - **MANOVA** \"Multi\" ANOVA - deals with multi-factor/measure for multiple groups.\n",
    "- Hypotheses statements:\n",
    "    - $H_0$: There is no statistically significant difference between all groups\n",
    "    - $H_a$: There is at least one group with a significant difference compared to other "
   ]
  },
  {
   "cell_type": "markdown",
   "metadata": {},
   "source": [
    "**Example** </br>\n",
    "Suppose you are a researcher conducting an agricultural study to compare the yield of three different fertilizer treatments (Treatment A, Treatment B, and Treatment C) on a specific type of crop. You want to determine if there are significant differences in crop yields among the treatments."
   ]
  },
  {
   "cell_type": "code",
   "execution_count": 70,
   "metadata": {},
   "outputs": [
    {
     "data": {
      "text/html": [
       "<div>\n",
       "<style scoped>\n",
       "    .dataframe tbody tr th:only-of-type {\n",
       "        vertical-align: middle;\n",
       "    }\n",
       "\n",
       "    .dataframe tbody tr th {\n",
       "        vertical-align: top;\n",
       "    }\n",
       "\n",
       "    .dataframe thead th {\n",
       "        text-align: right;\n",
       "    }\n",
       "</style>\n",
       "<table border=\"1\" class=\"dataframe\">\n",
       "  <thead>\n",
       "    <tr style=\"text-align: right;\">\n",
       "      <th></th>\n",
       "      <th>Treatment_A</th>\n",
       "      <th>Treatment_B</th>\n",
       "      <th>Treatment_C</th>\n",
       "    </tr>\n",
       "  </thead>\n",
       "  <tbody>\n",
       "    <tr>\n",
       "      <th>0</th>\n",
       "      <td>50</td>\n",
       "      <td>56</td>\n",
       "      <td>49</td>\n",
       "    </tr>\n",
       "    <tr>\n",
       "      <th>1</th>\n",
       "      <td>54</td>\n",
       "      <td>47</td>\n",
       "      <td>57</td>\n",
       "    </tr>\n",
       "    <tr>\n",
       "      <th>2</th>\n",
       "      <td>57</td>\n",
       "      <td>55</td>\n",
       "      <td>46</td>\n",
       "    </tr>\n",
       "    <tr>\n",
       "      <th>3</th>\n",
       "      <td>49</td>\n",
       "      <td>41</td>\n",
       "      <td>40</td>\n",
       "    </tr>\n",
       "    <tr>\n",
       "      <th>4</th>\n",
       "      <td>46</td>\n",
       "      <td>56</td>\n",
       "      <td>54</td>\n",
       "    </tr>\n",
       "  </tbody>\n",
       "</table>\n",
       "</div>"
      ],
      "text/plain": [
       "   Treatment_A  Treatment_B  Treatment_C\n",
       "0           50           56           49\n",
       "1           54           47           57\n",
       "2           57           55           46\n",
       "3           49           41           40\n",
       "4           46           56           54"
      ]
     },
     "execution_count": 70,
     "metadata": {},
     "output_type": "execute_result"
    }
   ],
   "source": [
    "df = pd.read_csv('/Users/bassel_instructor/Documents/Datasets/crop_yield_treatment.csv')\n",
    "df.head()"
   ]
  },
  {
   "cell_type": "markdown",
   "metadata": {},
   "source": [
    "Since we're analyzing one factor (crop yield), we use one-way ANOVA"
   ]
  },
  {
   "cell_type": "code",
   "execution_count": 71,
   "metadata": {},
   "outputs": [],
   "source": [
    "f_stat, p_val = sts.f_oneway(df['Treatment_A'],df['Treatment_B'],df['Treatment_C'])"
   ]
  },
  {
   "cell_type": "code",
   "execution_count": 72,
   "metadata": {},
   "outputs": [
    {
     "name": "stdout",
     "output_type": "stream",
     "text": [
      "We do not reject the null hypothesis.\n"
     ]
    }
   ],
   "source": [
    "HypoTesting(p_val,alpha)"
   ]
  },
  {
   "cell_type": "markdown",
   "metadata": {},
   "source": [
    "We accept the null hypothesis. There isn't a statistically significant difference between the treatments"
   ]
  },
  {
   "cell_type": "markdown",
   "metadata": {},
   "source": [
    "## Mann-Whitney U Test\n",
    "- There's a weakness with using z-tst and t-test if the data is irregular (not normally distributed) - light skewness is ok\n",
    "- In a scenario where the distribution is inconsistent and far from the bell curve, we can use a **non-parametric** statistical evaluation, such as the Mann-Whitney U Test\n",
    "- Non-parametric evaluation means  you cannot rely on traditional statistical measure (mean, median, etc...) for evaluation \n",
    "- Hypothesis statements:\n",
    "    - $H_0$: there's no difference between group A and B\n",
    "    - $H_a$: there's a difference between group A and B"
   ]
  },
  {
   "cell_type": "markdown",
   "metadata": {},
   "source": [
    "**Example**</br>\n",
    "Evaluate the salaries of post-graduate students from 2 different universities and check if they are different from each other (based on 5% critical value)."
   ]
  },
  {
   "cell_type": "code",
   "execution_count": 73,
   "metadata": {},
   "outputs": [
    {
     "data": {
      "text/html": [
       "<div>\n",
       "<style scoped>\n",
       "    .dataframe tbody tr th:only-of-type {\n",
       "        vertical-align: middle;\n",
       "    }\n",
       "\n",
       "    .dataframe tbody tr th {\n",
       "        vertical-align: top;\n",
       "    }\n",
       "\n",
       "    .dataframe thead th {\n",
       "        text-align: right;\n",
       "    }\n",
       "</style>\n",
       "<table border=\"1\" class=\"dataframe\">\n",
       "  <thead>\n",
       "    <tr style=\"text-align: right;\">\n",
       "      <th></th>\n",
       "      <th>UnivOfDallas</th>\n",
       "      <th>ArizonaStateUniv</th>\n",
       "    </tr>\n",
       "  </thead>\n",
       "  <tbody>\n",
       "    <tr>\n",
       "      <th>0</th>\n",
       "      <td>71555</td>\n",
       "      <td>73589</td>\n",
       "    </tr>\n",
       "    <tr>\n",
       "      <th>1</th>\n",
       "      <td>67887</td>\n",
       "      <td>83621</td>\n",
       "    </tr>\n",
       "    <tr>\n",
       "      <th>2</th>\n",
       "      <td>84334</td>\n",
       "      <td>74681</td>\n",
       "    </tr>\n",
       "    <tr>\n",
       "      <th>3</th>\n",
       "      <td>70133</td>\n",
       "      <td>83873</td>\n",
       "    </tr>\n",
       "    <tr>\n",
       "      <th>4</th>\n",
       "      <td>89304</td>\n",
       "      <td>72350</td>\n",
       "    </tr>\n",
       "  </tbody>\n",
       "</table>\n",
       "</div>"
      ],
      "text/plain": [
       "   UnivOfDallas  ArizonaStateUniv\n",
       "0         71555             73589\n",
       "1         67887             83621\n",
       "2         84334             74681\n",
       "3         70133             83873\n",
       "4         89304             72350"
      ]
     },
     "execution_count": 73,
     "metadata": {},
     "output_type": "execute_result"
    }
   ],
   "source": [
    "df = pd.read_csv('/Users/bassel_instructor/Documents/Datasets/Mann-Whitney_U_Salaries.csv')\n",
    "df.head()"
   ]
  },
  {
   "cell_type": "code",
   "execution_count": 74,
   "metadata": {},
   "outputs": [
    {
     "data": {
      "text/plain": [
       "array([[<Axes: title={'center': 'UnivOfDallas'}>,\n",
       "        <Axes: title={'center': 'ArizonaStateUniv'}>]], dtype=object)"
      ]
     },
     "execution_count": 74,
     "metadata": {},
     "output_type": "execute_result"
    },
    {
     "data": {
      "image/png": "[encoded data removed]",
      "text/plain": [
       "<Figure size 1200x500 with 2 Axes>"
      ]
     },
     "metadata": {},
     "output_type": "display_data"
    }
   ],
   "source": [
    "df.hist(figsize=(12,5))"
   ]
  },
  {
   "cell_type": "markdown",
   "metadata": {},
   "source": [
    "Since the distribution is not normal/Gaussian, we cannot rely on a parametric test (t-test or z-test). Therefore, the Mann-Whitney U test is appropriate."
   ]
  },
  {
   "cell_type": "code",
   "execution_count": 75,
   "metadata": {},
   "outputs": [
    {
     "name": "stdout",
     "output_type": "stream",
     "text": [
      "We do not reject the null hypothesis.\n"
     ]
    }
   ],
   "source": [
    "u_stat, p_val = sts.mannwhitneyu(df['UnivOfDallas'], df['ArizonaStateUniv'])\n",
    "\n",
    "HypoTesting(p_val)"
   ]
  },
  {
   "cell_type": "markdown",
   "metadata": {},
   "source": [
    "**Outcome** We accept the null hypothesis. Therefore, there's no significant difference between the 2 salary data of the universities"
   ]
  },
  {
   "cell_type": "code",
   "execution_count": null,
   "metadata": {},
   "outputs": [],
   "source": []
  }
 ],
 "metadata": {
  "kernelspec": {
   "display_name": "Python 3",
   "language": "python",
   "name": "python3"
  },
  "language_info": {
   "codemirror_mode": {
    "name": "ipython",
    "version": 3
   },
   "file_extension": ".py",
   "mimetype": "text/x-python",
   "name": "python",
   "nbconvert_exporter": "python",
   "pygments_lexer": "ipython3",
   "version": "3.11.3"
  }
 },
 "nbformat": 4,
 "nbformat_minor": 2
}
