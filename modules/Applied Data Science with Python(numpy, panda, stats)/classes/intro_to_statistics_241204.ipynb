{
 "cells": [
  {
   "cell_type": "markdown",
   "metadata": {},
   "source": [
    "# Statistics Fundamentals"
   ]
  },
  {
   "cell_type": "markdown",
   "metadata": {},
   "source": [
    "We'll cover:\n",
    "- Intro:\n",
    "    - Definition\n",
    "    - Importance of Statistics\n",
    "    - Common Terms in Stats\n",
    "    - Types\n",
    "- Types of Data\n",
    "- Statistical Measures\n",
    "    - Measures of Central Tendency\n",
    "    - Measures of Dispersion\n",
    "    - Measures of Shape\n",
    "    - Multivariate Analysis (Covariance and Correlation)"
   ]
  },
  {
   "cell_type": "code",
   "execution_count": 1,
   "metadata": {},
   "outputs": [],
   "source": [
    "import pandas as pd\n",
    "import numpy as np"
   ]
  },
  {
   "cell_type": "markdown",
   "metadata": {},
   "source": [
    "## Intro On Statistics\n",
    "### What is Statistics?\n",
    "- A part of mathematics that involves the collection, analysis, interpretation, presentation, and organization of data.\n",
    "- It's a discipline that deals with collection, description, analysis, and inference of conclusions from quantitative data and qualitative (notes: there are techniques to perform stats on categorical data - e.g. chi square test)\n",
    "\n",
    "### Importance of Statistics\n",
    "- The journey of a DS project starts with statistical analysis (e.g. inferential analysis) to help use explore and interpret our data.\n",
    "- It helps extract impactful findings and define an objective\n",
    "\n",
    "### Common Terms in Statistics\n",
    "- Population and Sample\n",
    "    - A **population** is the complete pool from which the sample is drawn for further analysis. \n",
    "    - A **sample** is a subset of the **population**\n",
    "    - The reason why we study a sample from the population: We can’t possibly study the entire population, its too resource intensive, long-drawn or infeasible. \n",
    "    - Therefore, it's essential to have a good sample at hand. The sample should be a **good representative** of the population.\n",
    "- **Measurement**: It's a number that is calculated or measured for each member of the sample. e.g. Weight, Blood Pressure, Vehicle Speed, etc..\n",
    "- **Parameter**: It's the characteristic of the population. e.g. population mean\n",
    "- **Statistic**:  It's the characteristic of the sample. e.g. sample mean\n",
    "- **Distribution**: It refers to how the sample data is distributed (spread) across a range of values."
   ]
  },
  {
   "cell_type": "code",
   "execution_count": 2,
   "metadata": {},
   "outputs": [],
   "source": [
    "student_data = {\n",
    "                'name': ['Mark', 'Mike', 'Tammy', 'Becky', 'John'],\n",
    "                'age': [55,43,27,35, 46],\n",
    "                'score':[99,78,83,87, 79],\n",
    "                'city': ['New York', 'Nashville', 'San Diego', 'Atlanta', 'Boston']\n",
    "                }"
   ]
  },
  {
   "cell_type": "code",
   "execution_count": 3,
   "metadata": {},
   "outputs": [
    {
     "data": {
      "text/html": [
       "<div>\n",
       "<style scoped>\n",
       "    .dataframe tbody tr th:only-of-type {\n",
       "        vertical-align: middle;\n",
       "    }\n",
       "\n",
       "    .dataframe tbody tr th {\n",
       "        vertical-align: top;\n",
       "    }\n",
       "\n",
       "    .dataframe thead th {\n",
       "        text-align: right;\n",
       "    }\n",
       "</style>\n",
       "<table border=\"1\" class=\"dataframe\">\n",
       "  <thead>\n",
       "    <tr style=\"text-align: right;\">\n",
       "      <th></th>\n",
       "      <th>name</th>\n",
       "      <th>age</th>\n",
       "      <th>score</th>\n",
       "      <th>city</th>\n",
       "    </tr>\n",
       "  </thead>\n",
       "  <tbody>\n",
       "    <tr>\n",
       "      <th>0</th>\n",
       "      <td>Mark</td>\n",
       "      <td>55</td>\n",
       "      <td>99</td>\n",
       "      <td>New York</td>\n",
       "    </tr>\n",
       "    <tr>\n",
       "      <th>1</th>\n",
       "      <td>Mike</td>\n",
       "      <td>43</td>\n",
       "      <td>78</td>\n",
       "      <td>Nashville</td>\n",
       "    </tr>\n",
       "    <tr>\n",
       "      <th>2</th>\n",
       "      <td>Tammy</td>\n",
       "      <td>27</td>\n",
       "      <td>83</td>\n",
       "      <td>San Diego</td>\n",
       "    </tr>\n",
       "    <tr>\n",
       "      <th>3</th>\n",
       "      <td>Becky</td>\n",
       "      <td>35</td>\n",
       "      <td>87</td>\n",
       "      <td>Atlanta</td>\n",
       "    </tr>\n",
       "    <tr>\n",
       "      <th>4</th>\n",
       "      <td>John</td>\n",
       "      <td>46</td>\n",
       "      <td>79</td>\n",
       "      <td>Boston</td>\n",
       "    </tr>\n",
       "  </tbody>\n",
       "</table>\n",
       "</div>"
      ],
      "text/plain": [
       "    name  age  score       city\n",
       "0   Mark   55     99   New York\n",
       "1   Mike   43     78  Nashville\n",
       "2  Tammy   27     83  San Diego\n",
       "3  Becky   35     87    Atlanta\n",
       "4   John   46     79     Boston"
      ]
     },
     "execution_count": 3,
     "metadata": {},
     "output_type": "execute_result"
    }
   ],
   "source": [
    "df = pd.DataFrame(student_data)\n",
    "df"
   ]
  },
  {
   "cell_type": "markdown",
   "metadata": {},
   "source": [
    "- df is a sample from all students of a school (population)\n",
    "- for example, row 0 is a record or a member of the sample"
   ]
  },
  {
   "cell_type": "markdown",
   "metadata": {},
   "source": [
    "### Types of Statistics"
   ]
  },
  {
   "cell_type": "markdown",
   "metadata": {},
   "source": [
    "![link text](https://labcontent.simplicdn.net/data-content/content-assets/Data_and_AI/ADSP_Images/Lesson_06_Maths_and_Stats/Statistics_Fundamentals/Image_1.png)"
   ]
  },
  {
   "cell_type": "markdown",
   "metadata": {},
   "source": [
    "- Descriptive statistics is statistics that offers an explicit explanation of the data, inferential statistics leads to logical inferences about the data and predictive statistics would be forecasting data.\n",
    "- The key difference between Descriptive and Inferential is in Inferential you are building conclusions (inferences) about the population based on the analyzed sample. e.g. an increase of blood pressure may cause a heart attack. Basically, Inferential = Create a derived understanding about some aspect of the population.\n",
    "- Predictive Anticipate what will happen to a characteristic in the future. Basically, Predictive: predicting future outcomes based on historical data\n"
   ]
  },
  {
   "cell_type": "markdown",
   "metadata": {},
   "source": [
    "## Types of Data"
   ]
  },
  {
   "cell_type": "markdown",
   "metadata": {},
   "source": [
    "Two main types:\n",
    "- Categorical: it represents a characteristic. e.g. gender, blood type, country, marital status, etc...\n",
    "- Numeric: It represents a measurement or calculation. e.g. height, age, weight, num of sales, product temperature, credit limit, etc..."
   ]
  },
  {
   "cell_type": "markdown",
   "metadata": {},
   "source": [
    "What about Date?\n",
    "- It depends on the context and date component\n",
    "- full date is considered categorical\n",
    "- if you extract month or day parts, for example, from the date, that value is considered numeric."
   ]
  },
  {
   "cell_type": "markdown",
   "metadata": {},
   "source": [
    "## Statistical Measures"
   ]
  },
  {
   "cell_type": "markdown",
   "metadata": {},
   "source": [
    "### Measures of Central Tendency\n",
    "- It's a summary that describes the central position of the dataset\n",
    "- They are also called the 3Ms: Mean, Median, and Mode\n",
    "- Note: If the data is not evenly distributed (skewed), those measures do not represent the center of the data."
   ]
  },
  {
   "cell_type": "markdown",
   "metadata": {},
   "source": [
    "Mean: \n",
    "- The most popular statistical measure.\n",
    "- The total of the data points divided by their count\n"
   ]
  },
  {
   "cell_type": "code",
   "execution_count": 4,
   "metadata": {},
   "outputs": [
    {
     "data": {
      "text/plain": [
       "41.2"
      ]
     },
     "execution_count": 4,
     "metadata": {},
     "output_type": "execute_result"
    }
   ],
   "source": [
    "df['age'].mean(skipna=True) #in case the data has nulls, you want to ignore them"
   ]
  },
  {
   "cell_type": "code",
   "execution_count": 5,
   "metadata": {},
   "outputs": [
    {
     "data": {
      "text/plain": [
       "41.2"
      ]
     },
     "execution_count": 5,
     "metadata": {},
     "output_type": "execute_result"
    }
   ],
   "source": [
    "#using numpy\n",
    "np.mean(df['age'])"
   ]
  },
  {
   "cell_type": "code",
   "execution_count": 6,
   "metadata": {},
   "outputs": [
    {
     "data": {
      "text/plain": [
       "41.2"
      ]
     },
     "execution_count": 6,
     "metadata": {},
     "output_type": "execute_result"
    }
   ],
   "source": [
    "# using statistics library\n",
    "import statistics as stat\n",
    "stat.mean(df['age'])"
   ]
  },
  {
   "cell_type": "markdown",
   "metadata": {},
   "source": [
    "Median:\n",
    "- The middle value of a dataset obtained after arranging the order descending or ascending.\n",
    "- For an odd count of values, it's straightforward \n",
    "- For an even count of values, you need ot take the average of the 2 data points in the center. Fore example, the median of `[4,5,6,7,8,9]` is (6+7)/2"
   ]
  },
  {
   "cell_type": "code",
   "execution_count": 7,
   "metadata": {},
   "outputs": [
    {
     "data": {
      "text/plain": [
       "43.0"
      ]
     },
     "execution_count": 7,
     "metadata": {},
     "output_type": "execute_result"
    }
   ],
   "source": [
    "df['age'].median()"
   ]
  },
  {
   "cell_type": "code",
   "execution_count": 8,
   "metadata": {},
   "outputs": [
    {
     "data": {
      "text/plain": [
       "43.0"
      ]
     },
     "execution_count": 8,
     "metadata": {},
     "output_type": "execute_result"
    }
   ],
   "source": [
    "np.median(df['age'])"
   ]
  },
  {
   "cell_type": "markdown",
   "metadata": {},
   "source": [
    "Mode\n",
    "- It's the most frequent value in the dataset\n",
    "- It's the only measure of central tendency that can be applied on both numerical and categorical data. For example, `['Red', 'Blue','Red','White','Red', 'Blue] has a mode value: 'Red'"
   ]
  },
  {
   "cell_type": "code",
   "execution_count": 9,
   "metadata": {},
   "outputs": [
    {
     "data": {
      "text/plain": [
       "0    27\n",
       "1    35\n",
       "2    43\n",
       "3    46\n",
       "4    55\n",
       "Name: age, dtype: int64"
      ]
     },
     "execution_count": 9,
     "metadata": {},
     "output_type": "execute_result"
    }
   ],
   "source": [
    "df['age'].mode()"
   ]
  },
  {
   "cell_type": "markdown",
   "metadata": {},
   "source": [
    "We get all the numbers because all of them have the same frequency"
   ]
  },
  {
   "cell_type": "code",
   "execution_count": 10,
   "metadata": {},
   "outputs": [
    {
     "data": {
      "text/plain": [
       "0    4\n",
       "dtype: int64"
      ]
     },
     "execution_count": 10,
     "metadata": {},
     "output_type": "execute_result"
    }
   ],
   "source": [
    "X = pd.Series([2,3,4,4,6,7,4,8,4,8])\n",
    "X.mode()"
   ]
  },
  {
   "cell_type": "markdown",
   "metadata": {},
   "source": [
    "### Measures of Dispersion\n",
    "- Also known as measures of variability. They are used to understand the spread of the data and its diversity. e.g. Standard Deviation or Range\n",
    "- The mean may pose an issue in terms of describing the data. it could be unreliable if the data has outliers. Second, it may not be enough to explain the difference between some datasets."
   ]
  },
  {
   "cell_type": "code",
   "execution_count": 12,
   "metadata": {},
   "outputs": [],
   "source": [
    "# Dataset 1\n",
    "data1 = np.array([3,5,6,7,8])\n",
    "\n",
    "# Dataset 2\n",
    "data2 = np.array([2,5,5,8,9])\n",
    "\n",
    "# Dataset 3\n",
    "data3 = np.array([2,4,4,9,10])"
   ]
  },
  {
   "cell_type": "code",
   "execution_count": 13,
   "metadata": {},
   "outputs": [
    {
     "name": "stdout",
     "output_type": "stream",
     "text": [
      "Data 1 mean: 5.8\n",
      "Data 2 mean: 5.8\n",
      "Data 3 mean: 5.8\n"
     ]
    }
   ],
   "source": [
    "print('Data 1 mean:',np.mean(data1))\n",
    "print('Data 2 mean:',np.mean(data2))\n",
    "print('Data 3 mean:',np.mean(data3))"
   ]
  },
  {
   "cell_type": "markdown",
   "metadata": {},
   "source": [
    "**Observation**\n",
    "- Despite the fact all datasets are different, they all share the same average.\n",
    "- The average/mean is not giving the full picture.\n",
    "- Therefore, we need additional measures to get a better explanation."
   ]
  },
  {
   "cell_type": "code",
   "execution_count": 14,
   "metadata": {},
   "outputs": [
    {
     "name": "stdout",
     "output_type": "stream",
     "text": [
      "Data 1 Standard Deviation: 1.7204650534085253\n",
      "Data 2 Standard Deviation: 2.4819347291981715\n",
      "Data 3 Standard Deviation: 3.1240998703626617\n"
     ]
    }
   ],
   "source": [
    "print('Data 1 Standard Deviation:',np.std(data1))\n",
    "print('Data 2 Standard Deviation:',np.std(data2))\n",
    "print('Data 3 Standard Deviation:',np.std(data3))"
   ]
  },
  {
   "cell_type": "markdown",
   "metadata": {},
   "source": [
    "![link text](https://labcontent.simplicdn.net/data-content/content-assets/Data_and_AI/ADSP_Images/Lesson_05_Data_Visualization/standard_deviation.png)"
   ]
  },
  {
   "cell_type": "markdown",
   "metadata": {},
   "source": [
    "- Explains the dispersion(spread) of the data. For example, it shows that all 3 datasets are dispersed differently.\n",
    "- It's the most popular measure of dispersion\n",
    "- It's defined as the sum of squares of the deviation around the mean divided by the number of observations."
   ]
  },
  {
   "cell_type": "markdown",
   "metadata": {},
   "source": [
    "Range\n",
    "- The distance between the smallest and largest data points.\n",
    "- It's sensitive to outliers."
   ]
  },
  {
   "cell_type": "code",
   "execution_count": 15,
   "metadata": {},
   "outputs": [
    {
     "data": {
      "text/plain": [
       "28"
      ]
     },
     "execution_count": 15,
     "metadata": {},
     "output_type": "execute_result"
    }
   ],
   "source": [
    "df['age'].max() - df['age'].min()"
   ]
  },
  {
   "cell_type": "markdown",
   "metadata": {},
   "source": [
    "#### Percentiles and Quartiles"
   ]
  },
  {
   "cell_type": "markdown",
   "metadata": {},
   "source": [
    "- It's a statistical concept used to divide the data into equal parts to help understand distribution and ranking.\n",
    "- Types:\n",
    "    - Percentile: a fraction of 100 (divide the data into 100 equal parts), with each part representing a percentage of the data. Some common percentiles:\n",
    "        - 25th percentile (Q1): 25% of the data falls below this value.\n",
    "        - 50th percentile (Q2 or median): 50% of the data falls below this value.\n",
    "        - 90th percentile: 90% of the data falls below this value.\n",
    "- Examples: Based on our school grades dataset\n",
    "    - The 50th percentile for reading score is 70. This means 50% made grades higher than 70. The other half below 70. and 70 is the median.\n",
    "    - The 25th percentile of math score is 56. This means 25% of the students made grades below 56 and 75% of the students did better (made higher than 56)"
   ]
  },
  {
   "cell_type": "code",
   "execution_count": 16,
   "metadata": {},
   "outputs": [
    {
     "data": {
      "text/plain": [
       "5.0"
      ]
     },
     "execution_count": 16,
     "metadata": {},
     "output_type": "execute_result"
    }
   ],
   "source": [
    "arr = np.array([4,5,6,6,7,8,2,3,4,5,5,10,9,9,7,9])\n",
    "\n",
    "percnt_30 = np.percentile(arr, 30)\n",
    "percnt_30"
   ]
  },
  {
   "cell_type": "code",
   "execution_count": 18,
   "metadata": {},
   "outputs": [
    {
     "data": {
      "text/html": [
       "<div>\n",
       "<style scoped>\n",
       "    .dataframe tbody tr th:only-of-type {\n",
       "        vertical-align: middle;\n",
       "    }\n",
       "\n",
       "    .dataframe tbody tr th {\n",
       "        vertical-align: top;\n",
       "    }\n",
       "\n",
       "    .dataframe thead th {\n",
       "        text-align: right;\n",
       "    }\n",
       "</style>\n",
       "<table border=\"1\" class=\"dataframe\">\n",
       "  <thead>\n",
       "    <tr style=\"text-align: right;\">\n",
       "      <th></th>\n",
       "      <th>age</th>\n",
       "      <th>score</th>\n",
       "    </tr>\n",
       "  </thead>\n",
       "  <tbody>\n",
       "    <tr>\n",
       "      <th>count</th>\n",
       "      <td>5.00000</td>\n",
       "      <td>5.000000</td>\n",
       "    </tr>\n",
       "    <tr>\n",
       "      <th>mean</th>\n",
       "      <td>41.20000</td>\n",
       "      <td>85.200000</td>\n",
       "    </tr>\n",
       "    <tr>\n",
       "      <th>std</th>\n",
       "      <td>10.68644</td>\n",
       "      <td>8.497058</td>\n",
       "    </tr>\n",
       "    <tr>\n",
       "      <th>min</th>\n",
       "      <td>27.00000</td>\n",
       "      <td>78.000000</td>\n",
       "    </tr>\n",
       "    <tr>\n",
       "      <th>25%</th>\n",
       "      <td>35.00000</td>\n",
       "      <td>79.000000</td>\n",
       "    </tr>\n",
       "    <tr>\n",
       "      <th>50%</th>\n",
       "      <td>43.00000</td>\n",
       "      <td>83.000000</td>\n",
       "    </tr>\n",
       "    <tr>\n",
       "      <th>75%</th>\n",
       "      <td>46.00000</td>\n",
       "      <td>87.000000</td>\n",
       "    </tr>\n",
       "    <tr>\n",
       "      <th>max</th>\n",
       "      <td>55.00000</td>\n",
       "      <td>99.000000</td>\n",
       "    </tr>\n",
       "  </tbody>\n",
       "</table>\n",
       "</div>"
      ],
      "text/plain": [
       "            age      score\n",
       "count   5.00000   5.000000\n",
       "mean   41.20000  85.200000\n",
       "std    10.68644   8.497058\n",
       "min    27.00000  78.000000\n",
       "25%    35.00000  79.000000\n",
       "50%    43.00000  83.000000\n",
       "75%    46.00000  87.000000\n",
       "max    55.00000  99.000000"
      ]
     },
     "execution_count": 18,
     "metadata": {},
     "output_type": "execute_result"
    }
   ],
   "source": [
    "df.describe()"
   ]
  },
  {
   "cell_type": "markdown",
   "metadata": {},
   "source": [
    "> quartiles is dividing the data into 4 segments, which is similar to 25th, 50th, and 75% percentiles."
   ]
  },
  {
   "cell_type": "markdown",
   "metadata": {},
   "source": [
    "### Measures of Shape"
   ]
  },
  {
   "cell_type": "markdown",
   "metadata": {},
   "source": [
    "Skewness\n",
    "- a measure of asymmetry or distortion of the symmetric distribution of the data\n",
    "- It measures the deviation of the given data\n",
    "- A normal distribution is without any skewness\n"
   ]
  },
  {
   "cell_type": "markdown",
   "metadata": {},
   "source": [
    "![meanmedianmode.png](https://s3.us-east-1.amazonaws.com/static2.simplilearn.com/lms/testpaper_images/ADSP/Advanced_Statistics/Probimages/Statistics_Fundamentals/Statistics_Notebookupdated/meanmedianmode.png)"
   ]
  },
  {
   "cell_type": "code",
   "execution_count": 20,
   "metadata": {},
   "outputs": [
    {
     "data": {
      "text/plain": [
       "-0.12192809131980528"
      ]
     },
     "execution_count": 20,
     "metadata": {},
     "output_type": "execute_result"
    }
   ],
   "source": [
    "df['age'].skew()"
   ]
  },
  {
   "cell_type": "markdown",
   "metadata": {},
   "source": [
    "- Positive Skew: value > 0\n",
    "- Negative Skew: value < 0\n",
    "- Normal Distribution: value = 0 or very close to it"
   ]
  },
  {
   "cell_type": "markdown",
   "metadata": {},
   "source": [
    "Kurtosis"
   ]
  },
  {
   "cell_type": "markdown",
   "metadata": {},
   "source": [
    "![positivenegativekurt.PNG](https://s3.us-east-1.amazonaws.com/static2.simplilearn.com/lms/testpaper_images/ADSP/Advanced_Statistics/Probimages/Statistics_Fundamentals/Statistics_Notebookupdated/positivenegativekurt.PNG)"
   ]
  },
  {
   "cell_type": "markdown",
   "metadata": {},
   "source": [
    "### Covariance and Correlation\n",
    "- Previous measures fall under the Univariate analysis category\n",
    "- There's also Multi-variate analysis, such covariance and correlation\n",
    "- They analyze the relationship between 2 or more variables (or dependency)\n",
    "- Numeric data only"
   ]
  },
  {
   "cell_type": "markdown",
   "metadata": {},
   "source": [
    "- Covariance gives the direction of the relationship. For example, we have x and y columns\n",
    "    - Negative means if x goes up, y goes down (and vice-versa)\n",
    "    - Positive means if x goes up, y goes up too\n",
    "- Correlation:\n",
    "    - It's the most commonly used measure of the two because it includes both the direction and intensity(magnitude) of the relationship\n",
    "    - The value calculated for correlation is called the Pearson Correlation Coefficient:\n",
    "    - The range of the value is from -1 to +1:\n",
    "        - If the value is 0 -> no relationship \n",
    "        - If the value is close to -1, high negative correlation (relationship) (if x goes up, y goes down)\n",
    "        - If the value is close to +1, high positive correlation (relationship) (if x goes up, y goes up too)\n",
    "    - It's common to say any number higher than 0.6 or lower than -0.6 is considered high correlation"
   ]
  },
  {
   "cell_type": "markdown",
   "metadata": {},
   "source": []
  },
  {
   "cell_type": "code",
   "execution_count": 22,
   "metadata": {},
   "outputs": [
    {
     "data": {
      "text/html": [
       "<div>\n",
       "<style scoped>\n",
       "    .dataframe tbody tr th:only-of-type {\n",
       "        vertical-align: middle;\n",
       "    }\n",
       "\n",
       "    .dataframe tbody tr th {\n",
       "        vertical-align: top;\n",
       "    }\n",
       "\n",
       "    .dataframe thead th {\n",
       "        text-align: right;\n",
       "    }\n",
       "</style>\n",
       "<table border=\"1\" class=\"dataframe\">\n",
       "  <thead>\n",
       "    <tr style=\"text-align: right;\">\n",
       "      <th></th>\n",
       "      <th>gender</th>\n",
       "      <th>class group</th>\n",
       "      <th>parental level of education</th>\n",
       "      <th>lunch</th>\n",
       "      <th>test preparation course</th>\n",
       "      <th>math score</th>\n",
       "      <th>reading score</th>\n",
       "      <th>writing score</th>\n",
       "    </tr>\n",
       "  </thead>\n",
       "  <tbody>\n",
       "    <tr>\n",
       "      <th>0</th>\n",
       "      <td>male</td>\n",
       "      <td>group A</td>\n",
       "      <td>high school</td>\n",
       "      <td>standard</td>\n",
       "      <td>completed</td>\n",
       "      <td>67</td>\n",
       "      <td>67</td>\n",
       "      <td>63</td>\n",
       "    </tr>\n",
       "    <tr>\n",
       "      <th>1</th>\n",
       "      <td>female</td>\n",
       "      <td>group D</td>\n",
       "      <td>some high school</td>\n",
       "      <td>free/reduced</td>\n",
       "      <td>none</td>\n",
       "      <td>40</td>\n",
       "      <td>59</td>\n",
       "      <td>55</td>\n",
       "    </tr>\n",
       "    <tr>\n",
       "      <th>2</th>\n",
       "      <td>male</td>\n",
       "      <td>group E</td>\n",
       "      <td>some college</td>\n",
       "      <td>free/reduced</td>\n",
       "      <td>none</td>\n",
       "      <td>59</td>\n",
       "      <td>60</td>\n",
       "      <td>50</td>\n",
       "    </tr>\n",
       "    <tr>\n",
       "      <th>3</th>\n",
       "      <td>male</td>\n",
       "      <td>group B</td>\n",
       "      <td>high school</td>\n",
       "      <td>standard</td>\n",
       "      <td>none</td>\n",
       "      <td>77</td>\n",
       "      <td>78</td>\n",
       "      <td>68</td>\n",
       "    </tr>\n",
       "    <tr>\n",
       "      <th>4</th>\n",
       "      <td>male</td>\n",
       "      <td>group E</td>\n",
       "      <td>associate's degree</td>\n",
       "      <td>standard</td>\n",
       "      <td>completed</td>\n",
       "      <td>78</td>\n",
       "      <td>73</td>\n",
       "      <td>68</td>\n",
       "    </tr>\n",
       "  </tbody>\n",
       "</table>\n",
       "</div>"
      ],
      "text/plain": [
       "   gender class group parental level of education         lunch  \\\n",
       "0    male     group A                 high school      standard   \n",
       "1  female     group D            some high school  free/reduced   \n",
       "2    male     group E                some college  free/reduced   \n",
       "3    male     group B                 high school      standard   \n",
       "4    male     group E          associate's degree      standard   \n",
       "\n",
       "  test preparation course  math score  reading score  writing score  \n",
       "0               completed          67             67             63  \n",
       "1                    none          40             59             55  \n",
       "2                    none          59             60             50  \n",
       "3                    none          77             78             68  \n",
       "4               completed          78             73             68  "
      ]
     },
     "execution_count": 22,
     "metadata": {},
     "output_type": "execute_result"
    }
   ],
   "source": [
    "#importing csv\n",
    "df = pd.read_csv('/Users/bassel_instructor/Documents/Datasets/school_grades.csv')\n",
    "df.head()"
   ]
  },
  {
   "cell_type": "code",
   "execution_count": 24,
   "metadata": {},
   "outputs": [
    {
     "data": {
      "text/html": [
       "<div>\n",
       "<style scoped>\n",
       "    .dataframe tbody tr th:only-of-type {\n",
       "        vertical-align: middle;\n",
       "    }\n",
       "\n",
       "    .dataframe tbody tr th {\n",
       "        vertical-align: top;\n",
       "    }\n",
       "\n",
       "    .dataframe thead th {\n",
       "        text-align: right;\n",
       "    }\n",
       "</style>\n",
       "<table border=\"1\" class=\"dataframe\">\n",
       "  <thead>\n",
       "    <tr style=\"text-align: right;\">\n",
       "      <th></th>\n",
       "      <th>math score</th>\n",
       "      <th>reading score</th>\n",
       "      <th>writing score</th>\n",
       "    </tr>\n",
       "  </thead>\n",
       "  <tbody>\n",
       "    <tr>\n",
       "      <th>math score</th>\n",
       "      <td>1.000000</td>\n",
       "      <td>0.819398</td>\n",
       "      <td>0.805944</td>\n",
       "    </tr>\n",
       "    <tr>\n",
       "      <th>reading score</th>\n",
       "      <td>0.819398</td>\n",
       "      <td>1.000000</td>\n",
       "      <td>0.954274</td>\n",
       "    </tr>\n",
       "    <tr>\n",
       "      <th>writing score</th>\n",
       "      <td>0.805944</td>\n",
       "      <td>0.954274</td>\n",
       "      <td>1.000000</td>\n",
       "    </tr>\n",
       "  </tbody>\n",
       "</table>\n",
       "</div>"
      ],
      "text/plain": [
       "               math score  reading score  writing score\n",
       "math score       1.000000       0.819398       0.805944\n",
       "reading score    0.819398       1.000000       0.954274\n",
       "writing score    0.805944       0.954274       1.000000"
      ]
     },
     "execution_count": 24,
     "metadata": {},
     "output_type": "execute_result"
    }
   ],
   "source": [
    "df.corr(numeric_only=True) # correlation matrix"
   ]
  },
  {
   "cell_type": "markdown",
   "metadata": {},
   "source": [
    "- math and reading scores have a positive correlation (0.82)\n",
    "- on the other hand, read and writing scores have higher correlation"
   ]
  },
  {
   "cell_type": "code",
   "execution_count": 25,
   "metadata": {},
   "outputs": [
    {
     "data": {
      "text/html": [
       "<div>\n",
       "<style scoped>\n",
       "    .dataframe tbody tr th:only-of-type {\n",
       "        vertical-align: middle;\n",
       "    }\n",
       "\n",
       "    .dataframe tbody tr th {\n",
       "        vertical-align: top;\n",
       "    }\n",
       "\n",
       "    .dataframe thead th {\n",
       "        text-align: right;\n",
       "    }\n",
       "</style>\n",
       "<table border=\"1\" class=\"dataframe\">\n",
       "  <thead>\n",
       "    <tr style=\"text-align: right;\">\n",
       "      <th></th>\n",
       "      <th>income</th>\n",
       "      <th>age</th>\n",
       "      <th>health_score</th>\n",
       "      <th>movies_watched</th>\n",
       "    </tr>\n",
       "  </thead>\n",
       "  <tbody>\n",
       "    <tr>\n",
       "      <th>0</th>\n",
       "      <td>10000</td>\n",
       "      <td>25</td>\n",
       "      <td>95</td>\n",
       "      <td>7</td>\n",
       "    </tr>\n",
       "    <tr>\n",
       "      <th>1</th>\n",
       "      <td>20000</td>\n",
       "      <td>34</td>\n",
       "      <td>60</td>\n",
       "      <td>4</td>\n",
       "    </tr>\n",
       "    <tr>\n",
       "      <th>2</th>\n",
       "      <td>15000</td>\n",
       "      <td>27</td>\n",
       "      <td>90</td>\n",
       "      <td>4</td>\n",
       "    </tr>\n",
       "    <tr>\n",
       "      <th>3</th>\n",
       "      <td>25000</td>\n",
       "      <td>37</td>\n",
       "      <td>57</td>\n",
       "      <td>9</td>\n",
       "    </tr>\n",
       "  </tbody>\n",
       "</table>\n",
       "</div>"
      ],
      "text/plain": [
       "   income  age  health_score  movies_watched\n",
       "0   10000   25            95               7\n",
       "1   20000   34            60               4\n",
       "2   15000   27            90               4\n",
       "3   25000   37            57               9"
      ]
     },
     "execution_count": 25,
     "metadata": {},
     "output_type": "execute_result"
    }
   ],
   "source": [
    "data = {\n",
    "            'income':[10000, 20000, 15000, 25000],\n",
    "            'age': [25, 34, 27, 37],\n",
    "            'health_score': [95, 60, 90, 57],\n",
    "            'movies_watched': [7,4,4,9] \n",
    "}\n",
    "\n",
    "df = pd.DataFrame(data)\n",
    "df"
   ]
  },
  {
   "cell_type": "code",
   "execution_count": 26,
   "metadata": {},
   "outputs": [
    {
     "data": {
      "text/html": [
       "<div>\n",
       "<style scoped>\n",
       "    .dataframe tbody tr th:only-of-type {\n",
       "        vertical-align: middle;\n",
       "    }\n",
       "\n",
       "    .dataframe tbody tr th {\n",
       "        vertical-align: top;\n",
       "    }\n",
       "\n",
       "    .dataframe thead th {\n",
       "        text-align: right;\n",
       "    }\n",
       "</style>\n",
       "<table border=\"1\" class=\"dataframe\">\n",
       "  <thead>\n",
       "    <tr style=\"text-align: right;\">\n",
       "      <th></th>\n",
       "      <th>income</th>\n",
       "      <th>age</th>\n",
       "      <th>health_score</th>\n",
       "      <th>movies_watched</th>\n",
       "    </tr>\n",
       "  </thead>\n",
       "  <tbody>\n",
       "    <tr>\n",
       "      <th>income</th>\n",
       "      <td>1.000000</td>\n",
       "      <td>0.977525</td>\n",
       "      <td>-0.940153</td>\n",
       "      <td>0.316228</td>\n",
       "    </tr>\n",
       "    <tr>\n",
       "      <th>age</th>\n",
       "      <td>0.977525</td>\n",
       "      <td>1.000000</td>\n",
       "      <td>-0.987000</td>\n",
       "      <td>0.335480</td>\n",
       "    </tr>\n",
       "    <tr>\n",
       "      <th>health_score</th>\n",
       "      <td>-0.940153</td>\n",
       "      <td>-0.987000</td>\n",
       "      <td>1.000000</td>\n",
       "      <td>-0.233988</td>\n",
       "    </tr>\n",
       "    <tr>\n",
       "      <th>movies_watched</th>\n",
       "      <td>0.316228</td>\n",
       "      <td>0.335480</td>\n",
       "      <td>-0.233988</td>\n",
       "      <td>1.000000</td>\n",
       "    </tr>\n",
       "  </tbody>\n",
       "</table>\n",
       "</div>"
      ],
      "text/plain": [
       "                  income       age  health_score  movies_watched\n",
       "income          1.000000  0.977525     -0.940153        0.316228\n",
       "age             0.977525  1.000000     -0.987000        0.335480\n",
       "health_score   -0.940153 -0.987000      1.000000       -0.233988\n",
       "movies_watched  0.316228  0.335480     -0.233988        1.000000"
      ]
     },
     "execution_count": 26,
     "metadata": {},
     "output_type": "execute_result"
    }
   ],
   "source": [
    "df.corr(numeric_only=True)"
   ]
  },
  {
   "cell_type": "markdown",
   "metadata": {},
   "source": [
    "**observations**\n",
    "- income and age have high positive correlation\n",
    "- health_score and age have high negative correlation\n",
    "- income and movies_watched have low correlation (age and movies_watched as well)"
   ]
  },
  {
   "cell_type": "code",
   "execution_count": null,
   "metadata": {},
   "outputs": [],
   "source": []
  }
 ],
 "metadata": {
  "kernelspec": {
   "display_name": "Python 3",
   "language": "python",
   "name": "python3"
  },
  "language_info": {
   "codemirror_mode": {
    "name": "ipython",
    "version": 3
   },
   "file_extension": ".py",
   "mimetype": "text/x-python",
   "name": "python",
   "nbconvert_exporter": "python",
   "pygments_lexer": "ipython3",
   "version": "3.11.3"
  }
 },
 "nbformat": 4,
 "nbformat_minor": 2
}
