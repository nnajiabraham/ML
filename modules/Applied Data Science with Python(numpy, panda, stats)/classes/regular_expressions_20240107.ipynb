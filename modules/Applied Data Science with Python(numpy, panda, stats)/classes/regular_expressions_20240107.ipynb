{
 "cells": [
  {
   "cell_type": "markdown",
   "metadata": {},
   "source": [
    "# String Operations Using Regular Expressions"
   ]
  },
  {
   "cell_type": "markdown",
   "metadata": {},
   "source": [
    "Regular expressions (often abbreviated as **regex** or **regexp**) are sequences of characters used to define search patterns. They provide a concise and flexible way to match, search, and manipulate text based on specific patterns.\n",
    "\n",
    "Regular expressions consist of a combination of literal characters and special characters called metacharacters. The metacharacters have special meanings and allow you to define complex patterns. Here are some commonly used metacharacters:\n",
    "\n",
    "- `.` (dot): Matches any single character except a newline.\n",
    "- `^` (caret): Matches the start of a string.\n",
    "- `$` (dollar): Matches the end of a string.\n",
    "- `*` (asterisk): Matches zero or more occurrences of the previous character or group.\n",
    "- `+` (plus): Matches one or more occurrences of the previous character or group.\n",
    "- `?` (question mark): Matches zero or one occurrence of the previous character or group.\n",
    "- `[ ]` (square brackets): Matches any character within the brackets.\n",
    "- `[^ ]` (caret within square brackets): Matches any character not in the brackets.\n",
    "- `|` (pipe): Matches either the expression before or after the pipe.\n",
    "- `()` (parentheses): Groups patterns together.\n",
    "- `\\` backward slash explain special sequence.\n",
    "- `w` select words\n",
    "- `d` select digits\n",
    "- `\\s` space\n",
    "- `\\n` new line"
   ]
  },
  {
   "cell_type": "code",
   "execution_count": 1,
   "metadata": {},
   "outputs": [],
   "source": [
    "import re"
   ]
  },
  {
   "cell_type": "code",
   "execution_count": 2,
   "metadata": {},
   "outputs": [
    {
     "data": {
      "text/plain": [
       "<re.Match object; span=(2, 4), match='is'>"
      ]
     },
     "execution_count": 2,
     "metadata": {},
     "output_type": "execute_result"
    }
   ],
   "source": [
    "s = 'this is a sample string'\n",
    "pattern = 'is'\n",
    "\n",
    "re.search(pattern, s)"
   ]
  },
  {
   "cell_type": "code",
   "execution_count": 3,
   "metadata": {},
   "outputs": [
    {
     "data": {
      "text/plain": [
       "'is'"
      ]
     },
     "execution_count": 3,
     "metadata": {},
     "output_type": "execute_result"
    }
   ],
   "source": [
    "s[2:4]"
   ]
  },
  {
   "cell_type": "markdown",
   "metadata": {},
   "source": [
    "Use `findall()` to get all the instances of a string from a mai string\n"
   ]
  },
  {
   "cell_type": "code",
   "execution_count": 4,
   "metadata": {},
   "outputs": [
    {
     "data": {
      "text/plain": [
       "['sentence', 'sentence', 'sentence']"
      ]
     },
     "execution_count": 4,
     "metadata": {},
     "output_type": "execute_result"
    }
   ],
   "source": [
    "s2 = 'This is a generic sentence. Here is my sentence. My 3rd sentence is here.'\n",
    "\n",
    "re.findall('sentence',s2)"
   ]
  },
  {
   "cell_type": "code",
   "execution_count": 5,
   "metadata": {},
   "outputs": [
    {
     "data": {
      "text/plain": [
       "['is', 'is', 'is', 'is']"
      ]
     },
     "execution_count": 5,
     "metadata": {},
     "output_type": "execute_result"
    }
   ],
   "source": [
    "re.findall('is',s2)"
   ]
  },
  {
   "cell_type": "code",
   "execution_count": 10,
   "metadata": {},
   "outputs": [],
   "source": [
    "emails = '''Bassel@gmail.com\n",
    "            Jen@yahoo.com\n",
    "            Suresh@outlook.net\n",
    "            Jeremy@gmail.net\n",
    "            Parth@health.gov'''\n"
   ]
  },
  {
   "cell_type": "code",
   "execution_count": 14,
   "metadata": {},
   "outputs": [
    {
     "data": {
      "text/plain": [
       "['Bassel',\n",
       " 'gmail',\n",
       " 'com',\n",
       " 'Jen',\n",
       " 'yahoo',\n",
       " 'com',\n",
       " 'Suresh',\n",
       " 'outlook',\n",
       " 'net',\n",
       " 'Jeremy',\n",
       " 'gmail',\n",
       " 'net',\n",
       " 'Parth',\n",
       " 'health',\n",
       " 'gov']"
      ]
     },
     "execution_count": 14,
     "metadata": {},
     "output_type": "execute_result"
    }
   ],
   "source": [
    "# capture all the words in the emails\n",
    "pattern = re.compile(r'\\w+') #select every word without special characters\n",
    "\n",
    "re.findall(pattern, emails)"
   ]
  },
  {
   "cell_type": "markdown",
   "metadata": {},
   "source": [
    "Find only the domains"
   ]
  },
  {
   "cell_type": "code",
   "execution_count": 12,
   "metadata": {},
   "outputs": [
    {
     "data": {
      "text/plain": [
       "['com', 'com', 'net', 'net', 'gov']"
      ]
     },
     "execution_count": 12,
     "metadata": {},
     "output_type": "execute_result"
    }
   ],
   "source": [
    "#pattern: word@word.word\n",
    "# we need to add a cursor using ()\n",
    "pattern = re.compile('\\w+@\\w+.(\\w+)')\n",
    "\n",
    "re.findall(pattern, emails)"
   ]
  },
  {
   "cell_type": "markdown",
   "metadata": {},
   "source": [
    "`split()` function"
   ]
  },
  {
   "cell_type": "code",
   "execution_count": 15,
   "metadata": {},
   "outputs": [
    {
     "data": {
      "text/plain": [
       "['apples', 'bananas', 'oranges', 'grapes']"
      ]
     },
     "execution_count": 15,
     "metadata": {},
     "output_type": "execute_result"
    }
   ],
   "source": [
    "text = 'apples-bananas-oranges-grapes'\n",
    "\n",
    "fruit_list = re.split('-', text)\n",
    "fruit_list"
   ]
  },
  {
   "cell_type": "code",
   "execution_count": 21,
   "metadata": {},
   "outputs": [
    {
     "data": {
      "text/plain": [
       "['apples', 'bananas', 'oranges', 'grapes']"
      ]
     },
     "execution_count": 21,
     "metadata": {},
     "output_type": "execute_result"
    }
   ],
   "source": [
    "text = 'apples-bananas,oranges|grapes'\n",
    "\n",
    "fruit_list = re.split('[-|,]', text)\n",
    "fruit_list"
   ]
  },
  {
   "cell_type": "markdown",
   "metadata": {},
   "source": [
    "## Using RegEx with Digits"
   ]
  },
  {
   "cell_type": "code",
   "execution_count": 22,
   "metadata": {},
   "outputs": [],
   "source": [
    "phone_nums = '''\n",
    "            Bassel: 234-5689789 \n",
    "            Mark: 284-5083211 \n",
    "            mike: 234-5666323 \n",
    "            '''"
   ]
  },
  {
   "cell_type": "code",
   "execution_count": 23,
   "metadata": {},
   "outputs": [
    {
     "data": {
      "text/plain": [
       "['234-5689789', '284-5083211', '234-5666323']"
      ]
     },
     "execution_count": 23,
     "metadata": {},
     "output_type": "execute_result"
    }
   ],
   "source": [
    "pattern = re.compile('\\d\\d\\d-\\d\\d\\d\\d\\d\\d\\d')\n",
    "re.findall(pattern, phone_nums)"
   ]
  },
  {
   "cell_type": "markdown",
   "metadata": {},
   "source": [
    "Instead of repeating the digit flags, you can add multipliers"
   ]
  },
  {
   "cell_type": "code",
   "execution_count": 24,
   "metadata": {},
   "outputs": [
    {
     "data": {
      "text/plain": [
       "['234-5689789', '284-5083211', '234-5666323']"
      ]
     },
     "execution_count": 24,
     "metadata": {},
     "output_type": "execute_result"
    }
   ],
   "source": [
    "pattern = re.compile('\\d{3}-\\d{7}')\n",
    "re.findall(pattern, phone_nums)"
   ]
  },
  {
   "cell_type": "markdown",
   "metadata": {},
   "source": [
    "Get the area code"
   ]
  },
  {
   "cell_type": "code",
   "execution_count": 25,
   "metadata": {},
   "outputs": [
    {
     "data": {
      "text/plain": [
       "['234', '284', '234']"
      ]
     },
     "execution_count": 25,
     "metadata": {},
     "output_type": "execute_result"
    }
   ],
   "source": [
    "pattern = re.compile('(\\d{3})-\\d{7}')\n",
    "re.findall(pattern, phone_nums)"
   ]
  },
  {
   "cell_type": "markdown",
   "metadata": {},
   "source": [
    "## Replace String Using `sub()`"
   ]
  },
  {
   "cell_type": "markdown",
   "metadata": {},
   "source": [
    "**Exercisse** Clean the text below"
   ]
  },
  {
   "cell_type": "code",
   "execution_count": 26,
   "metadata": {},
   "outputs": [],
   "source": [
    "text = ''' The BEST $mvie ever made about writer's block and one of the scariest tales ever made regarding cabin fever, \n",
    "        The Shining took a simple concept of a      haunted hotel and built it ~up into an unforgettable, \n",
    "        psychological ^horror mvie that will withstand the test of \n",
    "        time despite being slated by it's original creator. scary moovie ---!!!!'''"
   ]
  },
  {
   "cell_type": "markdown",
   "metadata": {},
   "source": [
    "1. Replace bad spelling of movie"
   ]
  },
  {
   "cell_type": "code",
   "execution_count": 27,
   "metadata": {},
   "outputs": [
    {
     "name": "stdout",
     "output_type": "stream",
     "text": [
      " The BEST movie ever made about writer's block and one of the scariest tales ever made regarding cabin fever, \n",
      "        The Shining took a simple concept of a      haunted hotel and built it ~up into an unforgettable, \n",
      "        psychological ^horror movie that will withstand the test of \n",
      "        time despite being slated by it's original creator. scary movie ---!!!!\n"
     ]
    }
   ],
   "source": [
    "# use or flag | to capture multiple spellings\n",
    "text = re.sub('mvie|moovie|\\$mvie', 'movie', text)\n",
    "print(text)"
   ]
  },
  {
   "cell_type": "markdown",
   "metadata": {},
   "source": [
    "2. Get rid of special characters"
   ]
  },
  {
   "cell_type": "code",
   "execution_count": 29,
   "metadata": {},
   "outputs": [
    {
     "name": "stdout",
     "output_type": "stream",
     "text": [
      " The BEST movie ever made about writer's block and one of the scariest tales ever made regarding cabin fever \n",
      "        The Shining took a simple concept of a      haunted hotel and built it up into an unforgettable \n",
      "        psychological horror movie that will withstand the test of \n",
      "        time despite being slated by it's original creator. scary movie \n"
     ]
    }
   ],
   "source": [
    "# capture all alpha numerics\n",
    "pattern = '[^a-zA-Z0-9\\s.\\']'\n",
    "\n",
    "text = re.sub(pattern, '', text)\n",
    "print(text)"
   ]
  },
  {
   "cell_type": "markdown",
   "metadata": {},
   "source": [
    "## Using RegEx in Pandas"
   ]
  },
  {
   "cell_type": "markdown",
   "metadata": {},
   "source": [
    "`contains()`"
   ]
  },
  {
   "cell_type": "code",
   "execution_count": 30,
   "metadata": {},
   "outputs": [],
   "source": [
    "import pandas as pd"
   ]
  },
  {
   "cell_type": "code",
   "execution_count": 35,
   "metadata": {},
   "outputs": [
    {
     "data": {
      "text/html": [
       "<div>\n",
       "<style scoped>\n",
       "    .dataframe tbody tr th:only-of-type {\n",
       "        vertical-align: middle;\n",
       "    }\n",
       "\n",
       "    .dataframe tbody tr th {\n",
       "        vertical-align: top;\n",
       "    }\n",
       "\n",
       "    .dataframe thead th {\n",
       "        text-align: right;\n",
       "    }\n",
       "</style>\n",
       "<table border=\"1\" class=\"dataframe\">\n",
       "  <thead>\n",
       "    <tr style=\"text-align: right;\">\n",
       "      <th></th>\n",
       "      <th>names</th>\n",
       "      <th>emails</th>\n",
       "    </tr>\n",
       "  </thead>\n",
       "  <tbody>\n",
       "    <tr>\n",
       "      <th>0</th>\n",
       "      <td>Bassel</td>\n",
       "      <td>Bassel@gmail.com</td>\n",
       "    </tr>\n",
       "    <tr>\n",
       "      <th>1</th>\n",
       "      <td>Jen</td>\n",
       "      <td>Jen@yahoo.com</td>\n",
       "    </tr>\n",
       "    <tr>\n",
       "      <th>2</th>\n",
       "      <td>Suresh</td>\n",
       "      <td>Suresh@outlook.net</td>\n",
       "    </tr>\n",
       "    <tr>\n",
       "      <th>3</th>\n",
       "      <td>Jeremy</td>\n",
       "      <td>Jeremy@gmail.net</td>\n",
       "    </tr>\n",
       "    <tr>\n",
       "      <th>4</th>\n",
       "      <td>Parth</td>\n",
       "      <td>Parth@health.gov</td>\n",
       "    </tr>\n",
       "  </tbody>\n",
       "</table>\n",
       "</div>"
      ],
      "text/plain": [
       "    names              emails\n",
       "0  Bassel    Bassel@gmail.com\n",
       "1     Jen       Jen@yahoo.com\n",
       "2  Suresh  Suresh@outlook.net\n",
       "3  Jeremy    Jeremy@gmail.net\n",
       "4   Parth    Parth@health.gov"
      ]
     },
     "execution_count": 35,
     "metadata": {},
     "output_type": "execute_result"
    }
   ],
   "source": [
    "data = {\n",
    "    'names': ['Bassel'\n",
    "                ,'Jen'\n",
    "                ,'Suresh'\n",
    "                ,'Jeremy'\n",
    "                ,'Parth'],\n",
    "    'emails': [\n",
    "        'Bassel@gmail.com'\n",
    "        ,'Jen@yahoo.com'\n",
    "        ,'Suresh@outlook.net'\n",
    "        ,'Jeremy@gmail.net'\n",
    "        ,'Parth@health.gov'\n",
    "    ]\n",
    "}\n",
    "\n",
    "df = pd.DataFrame(data)\n",
    "df.head()"
   ]
  },
  {
   "cell_type": "markdown",
   "metadata": {},
   "source": [
    "Feature Engineering: Build an indicator that states whether the person has gmail account or not."
   ]
  },
  {
   "cell_type": "code",
   "execution_count": 36,
   "metadata": {},
   "outputs": [
    {
     "data": {
      "text/html": [
       "<div>\n",
       "<style scoped>\n",
       "    .dataframe tbody tr th:only-of-type {\n",
       "        vertical-align: middle;\n",
       "    }\n",
       "\n",
       "    .dataframe tbody tr th {\n",
       "        vertical-align: top;\n",
       "    }\n",
       "\n",
       "    .dataframe thead th {\n",
       "        text-align: right;\n",
       "    }\n",
       "</style>\n",
       "<table border=\"1\" class=\"dataframe\">\n",
       "  <thead>\n",
       "    <tr style=\"text-align: right;\">\n",
       "      <th></th>\n",
       "      <th>names</th>\n",
       "      <th>emails</th>\n",
       "      <th>has gmail or yahoo</th>\n",
       "    </tr>\n",
       "  </thead>\n",
       "  <tbody>\n",
       "    <tr>\n",
       "      <th>0</th>\n",
       "      <td>Bassel</td>\n",
       "      <td>Bassel@gmail.com</td>\n",
       "      <td>True</td>\n",
       "    </tr>\n",
       "    <tr>\n",
       "      <th>1</th>\n",
       "      <td>Jen</td>\n",
       "      <td>Jen@yahoo.com</td>\n",
       "      <td>True</td>\n",
       "    </tr>\n",
       "    <tr>\n",
       "      <th>2</th>\n",
       "      <td>Suresh</td>\n",
       "      <td>Suresh@outlook.net</td>\n",
       "      <td>False</td>\n",
       "    </tr>\n",
       "    <tr>\n",
       "      <th>3</th>\n",
       "      <td>Jeremy</td>\n",
       "      <td>Jeremy@gmail.net</td>\n",
       "      <td>True</td>\n",
       "    </tr>\n",
       "    <tr>\n",
       "      <th>4</th>\n",
       "      <td>Parth</td>\n",
       "      <td>Parth@health.gov</td>\n",
       "      <td>False</td>\n",
       "    </tr>\n",
       "  </tbody>\n",
       "</table>\n",
       "</div>"
      ],
      "text/plain": [
       "    names              emails  has gmail or yahoo\n",
       "0  Bassel    Bassel@gmail.com                True\n",
       "1     Jen       Jen@yahoo.com                True\n",
       "2  Suresh  Suresh@outlook.net               False\n",
       "3  Jeremy    Jeremy@gmail.net                True\n",
       "4   Parth    Parth@health.gov               False"
      ]
     },
     "execution_count": 36,
     "metadata": {},
     "output_type": "execute_result"
    }
   ],
   "source": [
    "df['has gmail or yahoo'] = df['emails'].str.contains('gmail|yahoo')\n",
    "df"
   ]
  },
  {
   "cell_type": "markdown",
   "metadata": {},
   "source": [
    "Using `split()`"
   ]
  },
  {
   "cell_type": "markdown",
   "metadata": {},
   "source": [
    "Get the domain name"
   ]
  },
  {
   "cell_type": "code",
   "execution_count": 40,
   "metadata": {},
   "outputs": [],
   "source": [
    "df['domain'] = df['emails'].str.split('.').str[1]"
   ]
  },
  {
   "cell_type": "code",
   "execution_count": 41,
   "metadata": {},
   "outputs": [
    {
     "data": {
      "text/html": [
       "<div>\n",
       "<style scoped>\n",
       "    .dataframe tbody tr th:only-of-type {\n",
       "        vertical-align: middle;\n",
       "    }\n",
       "\n",
       "    .dataframe tbody tr th {\n",
       "        vertical-align: top;\n",
       "    }\n",
       "\n",
       "    .dataframe thead th {\n",
       "        text-align: right;\n",
       "    }\n",
       "</style>\n",
       "<table border=\"1\" class=\"dataframe\">\n",
       "  <thead>\n",
       "    <tr style=\"text-align: right;\">\n",
       "      <th></th>\n",
       "      <th>names</th>\n",
       "      <th>emails</th>\n",
       "      <th>has gmail or yahoo</th>\n",
       "      <th>domain</th>\n",
       "    </tr>\n",
       "  </thead>\n",
       "  <tbody>\n",
       "    <tr>\n",
       "      <th>0</th>\n",
       "      <td>Bassel</td>\n",
       "      <td>Bassel@gmail.com</td>\n",
       "      <td>True</td>\n",
       "      <td>com</td>\n",
       "    </tr>\n",
       "    <tr>\n",
       "      <th>1</th>\n",
       "      <td>Jen</td>\n",
       "      <td>Jen@yahoo.com</td>\n",
       "      <td>True</td>\n",
       "      <td>com</td>\n",
       "    </tr>\n",
       "    <tr>\n",
       "      <th>2</th>\n",
       "      <td>Suresh</td>\n",
       "      <td>Suresh@outlook.net</td>\n",
       "      <td>False</td>\n",
       "      <td>net</td>\n",
       "    </tr>\n",
       "    <tr>\n",
       "      <th>3</th>\n",
       "      <td>Jeremy</td>\n",
       "      <td>Jeremy@gmail.net</td>\n",
       "      <td>True</td>\n",
       "      <td>net</td>\n",
       "    </tr>\n",
       "    <tr>\n",
       "      <th>4</th>\n",
       "      <td>Parth</td>\n",
       "      <td>Parth@health.gov</td>\n",
       "      <td>False</td>\n",
       "      <td>gov</td>\n",
       "    </tr>\n",
       "  </tbody>\n",
       "</table>\n",
       "</div>"
      ],
      "text/plain": [
       "    names              emails  has gmail or yahoo domain\n",
       "0  Bassel    Bassel@gmail.com                True    com\n",
       "1     Jen       Jen@yahoo.com                True    com\n",
       "2  Suresh  Suresh@outlook.net               False    net\n",
       "3  Jeremy    Jeremy@gmail.net                True    net\n",
       "4   Parth    Parth@health.gov               False    gov"
      ]
     },
     "execution_count": 41,
     "metadata": {},
     "output_type": "execute_result"
    }
   ],
   "source": [
    "df"
   ]
  },
  {
   "cell_type": "markdown",
   "metadata": {},
   "source": [
    "Using `expand=True` with `split()`"
   ]
  },
  {
   "cell_type": "markdown",
   "metadata": {},
   "source": [
    "Build 2 columns Name and State from the information below"
   ]
  },
  {
   "cell_type": "code",
   "execution_count": 42,
   "metadata": {},
   "outputs": [
    {
     "data": {
      "text/html": [
       "<div>\n",
       "<style scoped>\n",
       "    .dataframe tbody tr th:only-of-type {\n",
       "        vertical-align: middle;\n",
       "    }\n",
       "\n",
       "    .dataframe tbody tr th {\n",
       "        vertical-align: top;\n",
       "    }\n",
       "\n",
       "    .dataframe thead th {\n",
       "        text-align: right;\n",
       "    }\n",
       "</style>\n",
       "<table border=\"1\" class=\"dataframe\">\n",
       "  <thead>\n",
       "    <tr style=\"text-align: right;\">\n",
       "      <th></th>\n",
       "      <th>info</th>\n",
       "    </tr>\n",
       "  </thead>\n",
       "  <tbody>\n",
       "    <tr>\n",
       "      <th>0</th>\n",
       "      <td>Bassel-NY</td>\n",
       "    </tr>\n",
       "    <tr>\n",
       "      <th>1</th>\n",
       "      <td>Parth-CA</td>\n",
       "    </tr>\n",
       "    <tr>\n",
       "      <th>2</th>\n",
       "      <td>Mark-AZ</td>\n",
       "    </tr>\n",
       "  </tbody>\n",
       "</table>\n",
       "</div>"
      ],
      "text/plain": [
       "        info\n",
       "0  Bassel-NY\n",
       "1   Parth-CA\n",
       "2    Mark-AZ"
      ]
     },
     "execution_count": 42,
     "metadata": {},
     "output_type": "execute_result"
    }
   ],
   "source": [
    "data ={'info':['Bassel-NY', 'Parth-CA', 'Mark-AZ']}\n",
    "df = pd.DataFrame(data)\n",
    "df.head()"
   ]
  },
  {
   "cell_type": "code",
   "execution_count": 43,
   "metadata": {},
   "outputs": [
    {
     "data": {
      "text/html": [
       "<div>\n",
       "<style scoped>\n",
       "    .dataframe tbody tr th:only-of-type {\n",
       "        vertical-align: middle;\n",
       "    }\n",
       "\n",
       "    .dataframe tbody tr th {\n",
       "        vertical-align: top;\n",
       "    }\n",
       "\n",
       "    .dataframe thead th {\n",
       "        text-align: right;\n",
       "    }\n",
       "</style>\n",
       "<table border=\"1\" class=\"dataframe\">\n",
       "  <thead>\n",
       "    <tr style=\"text-align: right;\">\n",
       "      <th></th>\n",
       "      <th>info</th>\n",
       "      <th>name</th>\n",
       "      <th>state</th>\n",
       "    </tr>\n",
       "  </thead>\n",
       "  <tbody>\n",
       "    <tr>\n",
       "      <th>0</th>\n",
       "      <td>Bassel-NY</td>\n",
       "      <td>Bassel</td>\n",
       "      <td>NY</td>\n",
       "    </tr>\n",
       "    <tr>\n",
       "      <th>1</th>\n",
       "      <td>Parth-CA</td>\n",
       "      <td>Parth</td>\n",
       "      <td>CA</td>\n",
       "    </tr>\n",
       "    <tr>\n",
       "      <th>2</th>\n",
       "      <td>Mark-AZ</td>\n",
       "      <td>Mark</td>\n",
       "      <td>AZ</td>\n",
       "    </tr>\n",
       "  </tbody>\n",
       "</table>\n",
       "</div>"
      ],
      "text/plain": [
       "        info    name state\n",
       "0  Bassel-NY  Bassel    NY\n",
       "1   Parth-CA   Parth    CA\n",
       "2    Mark-AZ    Mark    AZ"
      ]
     },
     "execution_count": 43,
     "metadata": {},
     "output_type": "execute_result"
    }
   ],
   "source": [
    "df[['name','state']] = df['info'].str.split('-', expand=True)\n",
    "df"
   ]
  },
  {
   "cell_type": "code",
   "execution_count": null,
   "metadata": {},
   "outputs": [],
   "source": []
  }
 ],
 "metadata": {
  "kernelspec": {
   "display_name": "Python 3",
   "language": "python",
   "name": "python3"
  },
  "language_info": {
   "codemirror_mode": {
    "name": "ipython",
    "version": 3
   },
   "file_extension": ".py",
   "mimetype": "text/x-python",
   "name": "python",
   "nbconvert_exporter": "python",
   "pygments_lexer": "ipython3",
   "version": "3.11.3"
  }
 },
 "nbformat": 4,
 "nbformat_minor": 2
}
