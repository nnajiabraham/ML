{
 "cells": [
  {
   "cell_type": "code",
   "execution_count": 2,
   "metadata": {},
   "outputs": [],
   "source": [
    "import pandas as pd\n",
    "import numpy as np\n",
    "import matplotlib.pyplot as plt\n",
    "import seaborn as sns\n",
    "import plotly.express as px\n",
    "import plotly.graph_objects as go"
   ]
  },
  {
   "cell_type": "code",
   "execution_count": 18,
   "metadata": {},
   "outputs": [
    {
     "data": {
      "text/plain": [
       "3602"
      ]
     },
     "execution_count": 18,
     "metadata": {},
     "output_type": "execute_result"
    }
   ],
   "source": [
    "# Load the 'NSMES1988.csv' file into a Pandas DataFrame object called 'df', using column 0 as the index\n",
    "df = pd.read_csv('NSMES1988.csv', index_col=0)\n",
    "\n",
    "# Count the number of rows in the DataFrame where the value in the 'emergency' column is greater than 0\n",
    "len(df[df['emergency'] > 0])\n",
    "\n",
    "# Count the number of rows in the DataFrame where the value in the 'emergency' column is less than or equal to 0\n",
    "len(df[df['emergency'] <= 0])\n",
    "#parth Patel"
   ]
  }
 ],
 "metadata": {
  "kernelspec": {
   "display_name": "venv",
   "language": "python",
   "name": "python3"
  },
  "language_info": {
   "codemirror_mode": {
    "name": "ipython",
    "version": 3
   },
   "file_extension": ".py",
   "mimetype": "text/x-python",
   "name": "python",
   "nbconvert_exporter": "python",
   "pygments_lexer": "ipython3",
   "version": "3.9.19"
  }
 },
 "nbformat": 4,
 "nbformat_minor": 2
}
