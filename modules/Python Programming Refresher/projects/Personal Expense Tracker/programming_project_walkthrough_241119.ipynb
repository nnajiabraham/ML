{
 "cells": [
  {
   "cell_type": "markdown",
   "metadata": {},
   "source": [
    "# Projects Walkthrough"
   ]
  },
  {
   "cell_type": "markdown",
   "metadata": {},
   "source": [
    "## Personal Expense Tracker"
   ]
  },
  {
   "cell_type": "markdown",
   "metadata": {},
   "source": [
    "Objectives:\n",
    "1. Design and implement a personal expense tracker that enables users to\n",
    "manage their expenses\n",
    "2. Allow users to categorize expenses and set monthly budgets\n",
    "3. Implement file-handling functionality to save and load expense data\n",
    "4. Create an interactive, menu-driven interface for ease of use"
   ]
  },
  {
   "cell_type": "markdown",
   "metadata": {},
   "source": [
    "Steps to perform:\n",
    "1. Add an expense:\n",
    "-  Create a function to prompt the user for expense details. Ensure you ask for:\n",
    "    - The date of the expense in the format YYYY-MM-DD\n",
    "    - The category of the expense, such as Food or Travel\n",
    "    - The amount spent\n",
    "    - A brief description of the expense\n",
    "- Store the expense in a list as a dictionary, where each dictionary includes the\n",
    "date, category, amount, and description as key-value pairs\n",
    "Example:\n",
    "{'date': '2024-09-18', 'category': 'Food', 'amount': 15.50, 'description':\n",
    "'Lunch with friends'}\n",
    "2. View expenses:\n",
    "- Write a function to retrieve and display all stored expenses\n",
    "- Ensure the function loops through the list of expenses and displays the\n",
    "date, category, amount, and description for each entry\n",
    "- Validate the data before displaying it\n",
    "- If any required details (date, category, amount, or description) are\n",
    "missing, skip the entry or notify the user that it’s incomplete"
   ]
  },
  {
   "cell_type": "markdown",
   "metadata": {},
   "source": [
    "Hints:\n",
    "- Structure your code to build multiple functions that execute each functionality asked\n",
    "- Integrate all functions into one big function that runs them all\n",
    "- Data elements:\n",
    "    - Date of the expense\n",
    "    - Amount of the expense\n",
    "    - Category of the expense"
   ]
  },
  {
   "cell_type": "code",
   "execution_count": null,
   "metadata": {},
   "outputs": [],
   "source": [
    "# build a blank dictionary\n",
    "my_dict = {}\n",
    "\n",
    "def add_expense(expenses):\n",
    "    date = input('Enter the date of the transaction (format: YYYY-MM-DD):')\n",
    "    amount = # make sure you convert this to proper format \n",
    "    category =\n",
    "    #use append or update to add the elements to existing dictionary\n",
    "    # add a validation step for data entry (check for missing vlaues)\n",
    "\n",
    "\n",
    "def load_expenses():\n",
    "    if len(my_dict)==0:\n",
    "        print('The expenses data is blank')\n",
    "    else:\n",
    "        #use a for loop to print dictionary items \n",
    "        \n"
   ]
  },
  {
   "cell_type": "markdown",
   "metadata": {},
   "source": [
    "3. Set and track the budget:\n",
    "- Create a function that allows the user to input a monthly budget. Prompt the\n",
    "user to:\n",
    "- Enter the total amount they want to budget for the month\n",
    "- Create another function that calculates the total expenses recorded so far\n",
    "    - Compare the total with the user’s monthly budget\n",
    "    - If the total expenses exceed the budget, display a warning (Example:\n",
    "You have exceeded your budget!)\n",
    "o If the expenses are within the budget, display the remaining balance\n",
    "(Example: You have 150 left for the month)\n",
    "4. Save and load expenses:\n",
    "• Implement a function to save all expenses to a CSV file, with each row\n",
    "containing the date, category, amount, and description of each expense\n",
    "• Create another function to load expenses from the CSV file. When the\n",
    "program starts, it should:\n",
    "o Read the saved data from the file\n",
    "o Load it back into the list of expenses so the user can see their previous\n",
    "expenses and continue from where they left off\n",
    "5. Create an interactive menu:\n",
    "• Build a function to display a menu with the following options:\n",
    "o Add expense\n",
    "o View expenses\n",
    "o Track budget\n",
    "o Save expenses\n",
    "o Exit\n",
    "• Allow the user to enter a number to choose an option\n",
    "• Implement the following conditions:\n",
    "o If the user selects option 1, call the function to add an expense\n",
    "o If the user selects option 2, call the function to view expenses\n",
    "o If the user selects option 3, call the function to track the budget\n",
    "o If the user selects option 4, call the function to save expenses to the file\n",
    "o If the user selects option 5, save the expenses and exit the program"
   ]
  },
  {
   "cell_type": "code",
   "execution_count": null,
   "metadata": {},
   "outputs": [],
   "source": [
    "def set_budget(budget_amount):\n",
    "\n",
    "\n",
    "def view_budget(budget_amount):\n",
    "    #build a mechanism that prints out a message if the budget is not set yet\n",
    "    if not budget: #check if the budget is empty\n",
    "        "
   ]
  },
  {
   "cell_type": "code",
   "execution_count": null,
   "metadata": {},
   "outputs": [],
   "source": [
    "def menu():\n",
    "    #load expense\n",
    "    #load budget\n",
    "\n",
    "    #print a menu\n",
    "\n",
    "    while True:\n",
    "        print('Welcome to the expense tracker app')\n",
    "        print('Select an option from the menu')\n",
    "        print('1. Add Expense')\n",
    "        print('2. Set Monthly Budget')\n",
    "        #add more items here for all the functions you defined earlier\n",
    "\n",
    "        #logic with if statements for each option\n",
    "\n",
    "        option = input('Select an option:')\n",
    "        if option ==1:\n",
    "            #do function A\n",
    "        elif option ==2:\n",
    "            #do function B\n",
    "\n",
    "        #continue until you include all functions"
   ]
  },
  {
   "cell_type": "code",
   "execution_count": 1,
   "metadata": {},
   "outputs": [
    {
     "data": {
      "text/plain": [
       "dict_values([1000, 400, 200])"
      ]
     },
     "execution_count": 1,
     "metadata": {},
     "output_type": "execute_result"
    }
   ],
   "source": [
    "expenses = {'rent':1000, 'groceries': 400, 'utilities':200}\n",
    "\n",
    "expenses.values()"
   ]
  },
  {
   "cell_type": "code",
   "execution_count": 2,
   "metadata": {},
   "outputs": [
    {
     "data": {
      "text/plain": [
       "1600"
      ]
     },
     "execution_count": 2,
     "metadata": {},
     "output_type": "execute_result"
    }
   ],
   "source": [
    "sum(expenses.values())"
   ]
  },
  {
   "cell_type": "code",
   "execution_count": 14,
   "metadata": {},
   "outputs": [
    {
     "name": "stdout",
     "output_type": "stream",
     "text": [
      "We are below the budget\n"
     ]
    }
   ],
   "source": [
    "budget = 2000\n",
    "\n",
    "def budget_eval(expenses, budget):\n",
    "    if expenses > budget:\n",
    "        print('We have exceeded our budget')\n",
    "    else:\n",
    "        print('We are below the budget')\n",
    "\n",
    "budget_eval(sum(expenses.values()), budget)"
   ]
  },
  {
   "cell_type": "code",
   "execution_count": 4,
   "metadata": {},
   "outputs": [
    {
     "data": {
      "text/html": [
       "<div>\n",
       "<style scoped>\n",
       "    .dataframe tbody tr th:only-of-type {\n",
       "        vertical-align: middle;\n",
       "    }\n",
       "\n",
       "    .dataframe tbody tr th {\n",
       "        vertical-align: top;\n",
       "    }\n",
       "\n",
       "    .dataframe thead th {\n",
       "        text-align: right;\n",
       "    }\n",
       "</style>\n",
       "<table border=\"1\" class=\"dataframe\">\n",
       "  <thead>\n",
       "    <tr style=\"text-align: right;\">\n",
       "      <th></th>\n",
       "      <th>date</th>\n",
       "      <th>amount</th>\n",
       "    </tr>\n",
       "  </thead>\n",
       "  <tbody>\n",
       "    <tr>\n",
       "      <th>0</th>\n",
       "      <td>2024-11-12</td>\n",
       "      <td>200</td>\n",
       "    </tr>\n",
       "    <tr>\n",
       "      <th>1</th>\n",
       "      <td>2024-10-1</td>\n",
       "      <td>300</td>\n",
       "    </tr>\n",
       "    <tr>\n",
       "      <th>2</th>\n",
       "      <td>2024-11-15</td>\n",
       "      <td>400</td>\n",
       "    </tr>\n",
       "  </tbody>\n",
       "</table>\n",
       "</div>"
      ],
      "text/plain": [
       "         date  amount\n",
       "0  2024-11-12     200\n",
       "1   2024-10-1     300\n",
       "2  2024-11-15     400"
      ]
     },
     "execution_count": 4,
     "metadata": {},
     "output_type": "execute_result"
    }
   ],
   "source": [
    "import pandas as pd\n",
    "\n",
    "my_dict = {\n",
    "    'date': ['2024-11-12', '2024-10-1', '2024-11-15'],\n",
    "    'amount': [200, 300, 400]\n",
    "}\n",
    "\n",
    "df = pd.DataFrame(my_dict)\n",
    "df"
   ]
  },
  {
   "cell_type": "code",
   "execution_count": 7,
   "metadata": {},
   "outputs": [
    {
     "data": {
      "text/html": [
       "<div>\n",
       "<style scoped>\n",
       "    .dataframe tbody tr th:only-of-type {\n",
       "        vertical-align: middle;\n",
       "    }\n",
       "\n",
       "    .dataframe tbody tr th {\n",
       "        vertical-align: top;\n",
       "    }\n",
       "\n",
       "    .dataframe thead th {\n",
       "        text-align: right;\n",
       "    }\n",
       "</style>\n",
       "<table border=\"1\" class=\"dataframe\">\n",
       "  <thead>\n",
       "    <tr style=\"text-align: right;\">\n",
       "      <th></th>\n",
       "      <th>date</th>\n",
       "      <th>amount</th>\n",
       "      <th>month</th>\n",
       "    </tr>\n",
       "  </thead>\n",
       "  <tbody>\n",
       "    <tr>\n",
       "      <th>0</th>\n",
       "      <td>2024-11-12</td>\n",
       "      <td>200</td>\n",
       "      <td>11</td>\n",
       "    </tr>\n",
       "    <tr>\n",
       "      <th>1</th>\n",
       "      <td>2024-10-01</td>\n",
       "      <td>300</td>\n",
       "      <td>10</td>\n",
       "    </tr>\n",
       "    <tr>\n",
       "      <th>2</th>\n",
       "      <td>2024-11-15</td>\n",
       "      <td>400</td>\n",
       "      <td>11</td>\n",
       "    </tr>\n",
       "  </tbody>\n",
       "</table>\n",
       "</div>"
      ],
      "text/plain": [
       "        date  amount  month\n",
       "0 2024-11-12     200     11\n",
       "1 2024-10-01     300     10\n",
       "2 2024-11-15     400     11"
      ]
     },
     "execution_count": 7,
     "metadata": {},
     "output_type": "execute_result"
    }
   ],
   "source": [
    "df['date'] = pd.to_datetime(df['date'])\n",
    "df['month'] = df['date'].dt.month\n",
    "df.head()"
   ]
  },
  {
   "cell_type": "code",
   "execution_count": 8,
   "metadata": {},
   "outputs": [
    {
     "data": {
      "text/plain": [
       "month\n",
       "10    300\n",
       "11    600\n",
       "Name: amount, dtype: int64"
      ]
     },
     "execution_count": 8,
     "metadata": {},
     "output_type": "execute_result"
    }
   ],
   "source": [
    "df.groupby('month')['amount'].sum()"
   ]
  },
  {
   "cell_type": "code",
   "execution_count": 12,
   "metadata": {},
   "outputs": [
    {
     "name": "stdout",
     "output_type": "stream",
     "text": [
      "11 200\n",
      "10 300\n",
      "11 400\n"
     ]
    }
   ],
   "source": [
    "my_dict = {\n",
    "    'date': ['2024-11-12', '2024-10-1', '2024-11-15'],\n",
    "    'amount': [200, 300, 400]\n",
    "}\n",
    "\n",
    "for d, a in zip(my_dict['date'],my_dict['amount']):\n",
    "    print(d[5:7], a)\n"
   ]
  },
  {
   "cell_type": "code",
   "execution_count": null,
   "metadata": {},
   "outputs": [],
   "source": [
    "for "
   ]
  },
  {
   "cell_type": "markdown",
   "metadata": {},
   "source": [
    "## Task Manager\n",
    "\n",
    "Problem Statement:\n",
    "In today’s world, individuals often need to keep track of various tasks in a structured\n",
    "way. You are tasked with building a Task Manager that allows users to manage their\n",
    "tasks. The system should include user authentication, meaning each user has to log\n",
    "in with a username and password. Once logged in, users can create, view, update,\n",
    "and delete their tasks. Each user’s tasks should be stored separately, and only the\n",
    "authenticated user can access their tasks.\n",
    "Objectives:\n",
    "1. Design and implement a user authentication system (login and registration)\n",
    "2. Create a task management system that allows users to:\n",
    "a. Add, view, mark as completed, and delete tasks\n",
    "3. Use file handling to store user credentials and tasks persistently\n",
    "4. Create an interactive menu-driven interface to manage tasks"
   ]
  },
  {
   "cell_type": "markdown",
   "metadata": {},
   "source": [
    "Hints:\n",
    "- Build a file to store credentials in the following format:\n",
    "    ```\n",
    "    username, password\n",
    "    Mark, 12398234\n",
    "    Mike, 866123\n",
    "    Becky, 1271823\n",
    "    ```\n",
    "- build functions that execute each step in the assignment\n"
   ]
  },
  {
   "cell_type": "markdown",
   "metadata": {},
   "source": []
  },
  {
   "cell_type": "code",
   "execution_count": null,
   "metadata": {},
   "outputs": [],
   "source": [
    "def register_user():\n",
    "    username = input()\n",
    "    password = input()\n",
    "    #optional use getpass library\n",
    "\n",
    "    password = getpass('Enter password') \n",
    "\n",
    "    # check if the user already exists\n",
    "    # open the file\n",
    "    # search in the file for the input\n",
    "\n",
    "    with open('my_file.csv'):\n",
    "        \n"
   ]
  }
 ],
 "metadata": {
  "kernelspec": {
   "display_name": "Python 3",
   "language": "python",
   "name": "python3"
  },
  "language_info": {
   "codemirror_mode": {
    "name": "ipython",
    "version": 3
   },
   "file_extension": ".py",
   "mimetype": "text/x-python",
   "name": "python",
   "nbconvert_exporter": "python",
   "pygments_lexer": "ipython3",
   "version": "3.11.3"
  }
 },
 "nbformat": 4,
 "nbformat_minor": 2
}
