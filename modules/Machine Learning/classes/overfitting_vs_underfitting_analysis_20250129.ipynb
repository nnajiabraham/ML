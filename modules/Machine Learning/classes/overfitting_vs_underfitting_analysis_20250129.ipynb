{
 "cells": [
  {
   "cell_type": "markdown",
   "metadata": {},
   "source": [
    "# Overfitting and Underfitting"
   ]
  },
  {
   "cell_type": "markdown",
   "metadata": {},
   "source": [
    "## Bias vs Variance\n",
    "**Bias**\n",
    "- It happens when a model has a tendency to make errors due to oversimplifying the details of the data.\n",
    "- With High Bias the model is too simplistic and can't capture the true patterns and nuances in the data.\n",
    "- High Bias causes **Underfitting**\n",
    "\n",
    "**Variance**\n",
    "- It happens when the model's sensitivity to the details and small nuances is very high for the training data.\n",
    "- With High Variance the model is overly complex and fits the data too tightly.\n",
    "- High Variance causes **Overfitting**"
   ]
  },
  {
   "cell_type": "markdown",
   "metadata": {},
   "source": [
    "Basically, to reduce overfitting, you trade off perfection with the training data in order to get better utility with new data"
   ]
  },
  {
   "cell_type": "markdown",
   "metadata": {},
   "source": [
    "**For Regression**"
   ]
  },
  {
   "cell_type": "markdown",
   "metadata": {},
   "source": [
    "![vb](https://miro.medium.com/v2/resize:fit:1400/1*9hPX9pAO3jqLrzt0IE3JzA.png)"
   ]
  },
  {
   "cell_type": "markdown",
   "metadata": {},
   "source": [
    "**For Classification**"
   ]
  },
  {
   "cell_type": "markdown",
   "metadata": {},
   "source": [
    "![fitting.png](https://media.geeksforgeeks.org/wp-content/cdn-uploads/20190523171258/overfitting_2.png)"
   ]
  },
  {
   "cell_type": "markdown",
   "metadata": {},
   "source": [
    "**Analogy** \n",
    "- Underfitting - student didn't study well and can't answer well\n",
    "- Overfitting - student cramed/memorized the text book and can only answer those questions\n",
    "- Appropriate fitting - student learned the information and can apply to new situations"
   ]
  },
  {
   "cell_type": "markdown",
   "metadata": {},
   "source": [
    "## Addressing Overfitting and Underfitting"
   ]
  },
  {
   "cell_type": "markdown",
   "metadata": {},
   "source": [
    "### Addressing Overfitting\n",
    "- Simplify the model by reducing its complexity and noise:\n",
    "    - Using less features\n",
    "    - Focusing on features that matter the most\n",
    "    - Reducing the value/intensity of the hyperparameters (model complexity)\n",
    "- Applying Regularization (will discuss in detail in the next session)\n",
    "- Improving data quality\n",
    "- Increasing the amount of training data to get more diverse examples for the model to learn from\n",
    "- Employing cross-validation \n",
    "- Using Ensemble learning methods\n",
    "\n",
    "### Addressing Underfitting\n",
    "- Increase the model's complexity:\n",
    "    - Adding more insightful features\n",
    "    - Removing unnecessary features\n",
    "    - Feature Engineering/Extraction\n",
    "    - Increasing the value/intensity of the model's hyperparameters\n",
    "- Adding more relevant data points\n",
    "- Improving data quality"
   ]
  },
  {
   "cell_type": "markdown",
   "metadata": {},
   "source": [
    "## Exercise: Detecting and Reducing Overfitting"
   ]
  },
  {
   "cell_type": "markdown",
   "metadata": {},
   "source": [
    "- For our demo, we'll generate synthetic data using `sklearn` and artificially produce coplexity and noise\n",
    "- Use Decision Tree Classifier to build different scenarios"
   ]
  },
  {
   "cell_type": "code",
   "execution_count": 2,
   "metadata": {},
   "outputs": [],
   "source": [
    "import pandas as pd\n",
    "import numpy as np\n",
    "import matplotlib.pyplot as plt\n",
    "\n",
    "#sklearn libraries\n",
    "from sklearn.datasets import make_classification #to generate synthetic data\n",
    "from sklearn.model_selection import train_test_split #to split the data into train and test\n",
    "from sklearn.tree import DecisionTreeClassifier #the ML algo \n",
    "from sklearn.metrics import accuracy_score #evaluation"
   ]
  },
  {
   "cell_type": "code",
   "execution_count": 3,
   "metadata": {},
   "outputs": [],
   "source": [
    "# generate the data\n",
    "\n",
    "X, y = make_classification(n_samples=9000,\n",
    "                           n_features=18,\n",
    "                           n_informative=4,\n",
    "                           n_redundant=12,\n",
    "                           random_state=2)"
   ]
  },
  {
   "cell_type": "code",
   "execution_count": 4,
   "metadata": {},
   "outputs": [
    {
     "name": "stdout",
     "output_type": "stream",
     "text": [
      "[[ 2.15631115 -1.69009525  0.85714501 -0.55237974 -1.29713357  2.41049057\n",
      "   1.21394205  1.09574044 -0.27112028 -0.20828617 -0.74540214  0.15874997\n",
      "  -0.12124403  0.41527157 -1.4665927   0.24655728 -2.68791625  0.21728147]\n",
      " [ 1.12057112 -0.06407922  1.04214442 -0.08316613 -1.09791873  0.90701872\n",
      "  -1.22117341  1.15110676  0.4542019  -0.5555228  -0.42382371 -0.34233904\n",
      "  -0.55241524  0.54362834 -1.12509168  0.46288361 -0.97242942  1.05363474]]\n"
     ]
    }
   ],
   "source": [
    "#get the first 2 rows of the features array\n",
    "print(X[:2])"
   ]
  },
  {
   "cell_type": "code",
   "execution_count": 5,
   "metadata": {},
   "outputs": [
    {
     "data": {
      "text/plain": [
       "array([1, 0, 1, 0, 0, 1, 0, 1, 0, 0, 1, 0, 0, 1, 1, 0, 1, 1, 1, 0, 0, 1,\n",
       "       1, 0, 1, 0, 1, 1, 0, 1])"
      ]
     },
     "execution_count": 5,
     "metadata": {},
     "output_type": "execute_result"
    }
   ],
   "source": [
    "y[:30]"
   ]
  },
  {
   "cell_type": "code",
   "execution_count": 7,
   "metadata": {},
   "outputs": [
    {
     "data": {
      "text/html": [
       "<div>\n",
       "<style scoped>\n",
       "    .dataframe tbody tr th:only-of-type {\n",
       "        vertical-align: middle;\n",
       "    }\n",
       "\n",
       "    .dataframe tbody tr th {\n",
       "        vertical-align: top;\n",
       "    }\n",
       "\n",
       "    .dataframe thead th {\n",
       "        text-align: right;\n",
       "    }\n",
       "</style>\n",
       "<table border=\"1\" class=\"dataframe\">\n",
       "  <thead>\n",
       "    <tr style=\"text-align: right;\">\n",
       "      <th></th>\n",
       "      <th>0</th>\n",
       "      <th>1</th>\n",
       "      <th>2</th>\n",
       "      <th>3</th>\n",
       "      <th>4</th>\n",
       "      <th>5</th>\n",
       "      <th>6</th>\n",
       "      <th>7</th>\n",
       "      <th>8</th>\n",
       "      <th>9</th>\n",
       "      <th>10</th>\n",
       "      <th>11</th>\n",
       "      <th>12</th>\n",
       "      <th>13</th>\n",
       "      <th>14</th>\n",
       "      <th>15</th>\n",
       "      <th>16</th>\n",
       "      <th>17</th>\n",
       "      <th>18</th>\n",
       "    </tr>\n",
       "  </thead>\n",
       "  <tbody>\n",
       "    <tr>\n",
       "      <th>0</th>\n",
       "      <td>2.156311</td>\n",
       "      <td>-1.690095</td>\n",
       "      <td>0.857145</td>\n",
       "      <td>-0.552380</td>\n",
       "      <td>-1.297134</td>\n",
       "      <td>2.410491</td>\n",
       "      <td>1.213942</td>\n",
       "      <td>1.095740</td>\n",
       "      <td>-0.271120</td>\n",
       "      <td>-0.208286</td>\n",
       "      <td>-0.745402</td>\n",
       "      <td>0.158750</td>\n",
       "      <td>-0.121244</td>\n",
       "      <td>0.415272</td>\n",
       "      <td>-1.466593</td>\n",
       "      <td>0.246557</td>\n",
       "      <td>-2.687916</td>\n",
       "      <td>0.217281</td>\n",
       "      <td>1.0</td>\n",
       "    </tr>\n",
       "    <tr>\n",
       "      <th>1</th>\n",
       "      <td>1.120571</td>\n",
       "      <td>-0.064079</td>\n",
       "      <td>1.042144</td>\n",
       "      <td>-0.083166</td>\n",
       "      <td>-1.097919</td>\n",
       "      <td>0.907019</td>\n",
       "      <td>-1.221173</td>\n",
       "      <td>1.151107</td>\n",
       "      <td>0.454202</td>\n",
       "      <td>-0.555523</td>\n",
       "      <td>-0.423824</td>\n",
       "      <td>-0.342339</td>\n",
       "      <td>-0.552415</td>\n",
       "      <td>0.543628</td>\n",
       "      <td>-1.125092</td>\n",
       "      <td>0.462884</td>\n",
       "      <td>-0.972429</td>\n",
       "      <td>1.053635</td>\n",
       "      <td>0.0</td>\n",
       "    </tr>\n",
       "    <tr>\n",
       "      <th>2</th>\n",
       "      <td>0.743577</td>\n",
       "      <td>-0.824911</td>\n",
       "      <td>-1.795087</td>\n",
       "      <td>-1.140818</td>\n",
       "      <td>0.828695</td>\n",
       "      <td>0.884580</td>\n",
       "      <td>-0.414306</td>\n",
       "      <td>-1.261001</td>\n",
       "      <td>-0.478853</td>\n",
       "      <td>1.277968</td>\n",
       "      <td>-1.249176</td>\n",
       "      <td>-0.534983</td>\n",
       "      <td>0.078454</td>\n",
       "      <td>0.668052</td>\n",
       "      <td>-0.346653</td>\n",
       "      <td>-1.544109</td>\n",
       "      <td>-0.524343</td>\n",
       "      <td>-1.727458</td>\n",
       "      <td>1.0</td>\n",
       "    </tr>\n",
       "    <tr>\n",
       "      <th>3</th>\n",
       "      <td>-1.435744</td>\n",
       "      <td>1.577253</td>\n",
       "      <td>0.288327</td>\n",
       "      <td>0.915041</td>\n",
       "      <td>0.309522</td>\n",
       "      <td>-1.914877</td>\n",
       "      <td>-1.998745</td>\n",
       "      <td>0.029314</td>\n",
       "      <td>0.456918</td>\n",
       "      <td>-0.461416</td>\n",
       "      <td>0.723707</td>\n",
       "      <td>-0.199109</td>\n",
       "      <td>-0.067241</td>\n",
       "      <td>0.421007</td>\n",
       "      <td>0.749434</td>\n",
       "      <td>0.289394</td>\n",
       "      <td>1.800016</td>\n",
       "      <td>0.801596</td>\n",
       "      <td>0.0</td>\n",
       "    </tr>\n",
       "    <tr>\n",
       "      <th>4</th>\n",
       "      <td>-0.726817</td>\n",
       "      <td>0.238554</td>\n",
       "      <td>-0.486792</td>\n",
       "      <td>0.397939</td>\n",
       "      <td>0.580280</td>\n",
       "      <td>-0.861943</td>\n",
       "      <td>0.621715</td>\n",
       "      <td>-0.525683</td>\n",
       "      <td>-0.307491</td>\n",
       "      <td>0.200192</td>\n",
       "      <td>0.247341</td>\n",
       "      <td>0.055955</td>\n",
       "      <td>0.409927</td>\n",
       "      <td>-0.822130</td>\n",
       "      <td>0.624040</td>\n",
       "      <td>-0.407364</td>\n",
       "      <td>0.605788</td>\n",
       "      <td>-0.414297</td>\n",
       "      <td>0.0</td>\n",
       "    </tr>\n",
       "    <tr>\n",
       "      <th>...</th>\n",
       "      <td>...</td>\n",
       "      <td>...</td>\n",
       "      <td>...</td>\n",
       "      <td>...</td>\n",
       "      <td>...</td>\n",
       "      <td>...</td>\n",
       "      <td>...</td>\n",
       "      <td>...</td>\n",
       "      <td>...</td>\n",
       "      <td>...</td>\n",
       "      <td>...</td>\n",
       "      <td>...</td>\n",
       "      <td>...</td>\n",
       "      <td>...</td>\n",
       "      <td>...</td>\n",
       "      <td>...</td>\n",
       "      <td>...</td>\n",
       "      <td>...</td>\n",
       "      <td>...</td>\n",
       "    </tr>\n",
       "    <tr>\n",
       "      <th>8995</th>\n",
       "      <td>0.830859</td>\n",
       "      <td>1.965363</td>\n",
       "      <td>-0.665370</td>\n",
       "      <td>-0.923464</td>\n",
       "      <td>-0.110722</td>\n",
       "      <td>-0.249474</td>\n",
       "      <td>1.244931</td>\n",
       "      <td>0.057567</td>\n",
       "      <td>1.497159</td>\n",
       "      <td>0.336089</td>\n",
       "      <td>-1.929889</td>\n",
       "      <td>-2.391172</td>\n",
       "      <td>-1.664827</td>\n",
       "      <td>0.535802</td>\n",
       "      <td>-1.652897</td>\n",
       "      <td>-1.149231</td>\n",
       "      <td>1.137957</td>\n",
       "      <td>0.788071</td>\n",
       "      <td>0.0</td>\n",
       "    </tr>\n",
       "    <tr>\n",
       "      <th>8996</th>\n",
       "      <td>0.480028</td>\n",
       "      <td>0.653986</td>\n",
       "      <td>0.835577</td>\n",
       "      <td>-0.966696</td>\n",
       "      <td>-0.749638</td>\n",
       "      <td>0.829746</td>\n",
       "      <td>0.204524</td>\n",
       "      <td>0.719419</td>\n",
       "      <td>1.301058</td>\n",
       "      <td>-0.452328</td>\n",
       "      <td>-0.107936</td>\n",
       "      <td>-0.236334</td>\n",
       "      <td>-1.297658</td>\n",
       "      <td>0.563042</td>\n",
       "      <td>-0.718714</td>\n",
       "      <td>1.249289</td>\n",
       "      <td>0.411169</td>\n",
       "      <td>1.128434</td>\n",
       "      <td>1.0</td>\n",
       "    </tr>\n",
       "    <tr>\n",
       "      <th>8997</th>\n",
       "      <td>1.802209</td>\n",
       "      <td>0.189373</td>\n",
       "      <td>-1.071166</td>\n",
       "      <td>-1.460649</td>\n",
       "      <td>-0.137728</td>\n",
       "      <td>1.274105</td>\n",
       "      <td>0.092904</td>\n",
       "      <td>-0.212706</td>\n",
       "      <td>0.635148</td>\n",
       "      <td>0.831388</td>\n",
       "      <td>-2.243735</td>\n",
       "      <td>-1.804862</td>\n",
       "      <td>-1.117498</td>\n",
       "      <td>1.931215</td>\n",
       "      <td>-1.859241</td>\n",
       "      <td>-1.484289</td>\n",
       "      <td>-0.583424</td>\n",
       "      <td>-0.325051</td>\n",
       "      <td>1.0</td>\n",
       "    </tr>\n",
       "    <tr>\n",
       "      <th>8998</th>\n",
       "      <td>0.809492</td>\n",
       "      <td>-0.189572</td>\n",
       "      <td>0.125969</td>\n",
       "      <td>-0.080578</td>\n",
       "      <td>-0.407116</td>\n",
       "      <td>0.522411</td>\n",
       "      <td>-1.027597</td>\n",
       "      <td>0.372593</td>\n",
       "      <td>0.014116</td>\n",
       "      <td>-0.012773</td>\n",
       "      <td>-0.613109</td>\n",
       "      <td>-0.443309</td>\n",
       "      <td>-0.160150</td>\n",
       "      <td>0.739815</td>\n",
       "      <td>-0.750670</td>\n",
       "      <td>-0.352771</td>\n",
       "      <td>-0.741542</td>\n",
       "      <td>0.185788</td>\n",
       "      <td>0.0</td>\n",
       "    </tr>\n",
       "    <tr>\n",
       "      <th>8999</th>\n",
       "      <td>2.037256</td>\n",
       "      <td>0.277044</td>\n",
       "      <td>1.744924</td>\n",
       "      <td>-2.070455</td>\n",
       "      <td>-1.921794</td>\n",
       "      <td>2.737032</td>\n",
       "      <td>0.094480</td>\n",
       "      <td>1.734202</td>\n",
       "      <td>2.137146</td>\n",
       "      <td>-0.792301</td>\n",
       "      <td>-0.738201</td>\n",
       "      <td>-0.461309</td>\n",
       "      <td>-2.369102</td>\n",
       "      <td>1.669865</td>\n",
       "      <td>-2.098555</td>\n",
       "      <td>2.136460</td>\n",
       "      <td>-0.678268</td>\n",
       "      <td>1.982709</td>\n",
       "      <td>0.0</td>\n",
       "    </tr>\n",
       "  </tbody>\n",
       "</table>\n",
       "<p>9000 rows × 19 columns</p>\n",
       "</div>"
      ],
      "text/plain": [
       "            0         1         2         3         4         5         6   \\\n",
       "0     2.156311 -1.690095  0.857145 -0.552380 -1.297134  2.410491  1.213942   \n",
       "1     1.120571 -0.064079  1.042144 -0.083166 -1.097919  0.907019 -1.221173   \n",
       "2     0.743577 -0.824911 -1.795087 -1.140818  0.828695  0.884580 -0.414306   \n",
       "3    -1.435744  1.577253  0.288327  0.915041  0.309522 -1.914877 -1.998745   \n",
       "4    -0.726817  0.238554 -0.486792  0.397939  0.580280 -0.861943  0.621715   \n",
       "...        ...       ...       ...       ...       ...       ...       ...   \n",
       "8995  0.830859  1.965363 -0.665370 -0.923464 -0.110722 -0.249474  1.244931   \n",
       "8996  0.480028  0.653986  0.835577 -0.966696 -0.749638  0.829746  0.204524   \n",
       "8997  1.802209  0.189373 -1.071166 -1.460649 -0.137728  1.274105  0.092904   \n",
       "8998  0.809492 -0.189572  0.125969 -0.080578 -0.407116  0.522411 -1.027597   \n",
       "8999  2.037256  0.277044  1.744924 -2.070455 -1.921794  2.737032  0.094480   \n",
       "\n",
       "            7         8         9         10        11        12        13  \\\n",
       "0     1.095740 -0.271120 -0.208286 -0.745402  0.158750 -0.121244  0.415272   \n",
       "1     1.151107  0.454202 -0.555523 -0.423824 -0.342339 -0.552415  0.543628   \n",
       "2    -1.261001 -0.478853  1.277968 -1.249176 -0.534983  0.078454  0.668052   \n",
       "3     0.029314  0.456918 -0.461416  0.723707 -0.199109 -0.067241  0.421007   \n",
       "4    -0.525683 -0.307491  0.200192  0.247341  0.055955  0.409927 -0.822130   \n",
       "...        ...       ...       ...       ...       ...       ...       ...   \n",
       "8995  0.057567  1.497159  0.336089 -1.929889 -2.391172 -1.664827  0.535802   \n",
       "8996  0.719419  1.301058 -0.452328 -0.107936 -0.236334 -1.297658  0.563042   \n",
       "8997 -0.212706  0.635148  0.831388 -2.243735 -1.804862 -1.117498  1.931215   \n",
       "8998  0.372593  0.014116 -0.012773 -0.613109 -0.443309 -0.160150  0.739815   \n",
       "8999  1.734202  2.137146 -0.792301 -0.738201 -0.461309 -2.369102  1.669865   \n",
       "\n",
       "            14        15        16        17   18  \n",
       "0    -1.466593  0.246557 -2.687916  0.217281  1.0  \n",
       "1    -1.125092  0.462884 -0.972429  1.053635  0.0  \n",
       "2    -0.346653 -1.544109 -0.524343 -1.727458  1.0  \n",
       "3     0.749434  0.289394  1.800016  0.801596  0.0  \n",
       "4     0.624040 -0.407364  0.605788 -0.414297  0.0  \n",
       "...        ...       ...       ...       ...  ...  \n",
       "8995 -1.652897 -1.149231  1.137957  0.788071  0.0  \n",
       "8996 -0.718714  1.249289  0.411169  1.128434  1.0  \n",
       "8997 -1.859241 -1.484289 -0.583424 -0.325051  1.0  \n",
       "8998 -0.750670 -0.352771 -0.741542  0.185788  0.0  \n",
       "8999 -2.098555  2.136460 -0.678268  1.982709  0.0  \n",
       "\n",
       "[9000 rows x 19 columns]"
      ]
     },
     "execution_count": 7,
     "metadata": {},
     "output_type": "execute_result"
    }
   ],
   "source": [
    "#optional - table representation\n",
    "pd.DataFrame(np.hstack((X,y.reshape(-1,1))))"
   ]
  },
  {
   "cell_type": "code",
   "execution_count": 8,
   "metadata": {},
   "outputs": [],
   "source": [
    "# split the data into train and test\n",
    "X_train, X_test, y_train, y_test = train_test_split(X, y, test_size=.3, random_state=3)"
   ]
  },
  {
   "cell_type": "markdown",
   "metadata": {},
   "source": [
    "#### Training The Model"
   ]
  },
  {
   "cell_type": "markdown",
   "metadata": {},
   "source": [
    "- We'll be using **Decision Tree Classifier**\n",
    "- About:\n",
    "    - Decision Trees are very popular supervised learning algorithms.\n",
    "    - Can be used for both **Classification** and **Regression** ML problems:\n",
    "        - Regression: `DecisionTreeRegressor`\n",
    "        - Classification: `DecisionTreeClassifier`\n",
    "    - It creates a tree-like model where each internal node represents an attribute/feature\n",
    "    - Each branch represents a decision rule and each leaf represents a class label"
   ]
  },
  {
   "cell_type": "markdown",
   "metadata": {},
   "source": [
    "**Example** for Heart Failure prediction\n",
    "\n",
    "![dtc](https://images.datacamp.com/image/upload/v1677504957/decision_tree_for_heart_attack_prevention_2140bd762d.png)"
   ]
  },
  {
   "cell_type": "markdown",
   "metadata": {},
   "source": [
    "**Objective For This Demo**\n",
    "1. Start the training from a low level of complexity. Then, increase it gradually using a hyperparameter called `max_depth`. This will help show the spectrum between underfitting and overfitting\n",
    "2. Store the results of both train and test data's prediction accuracy\n",
    "3. Plot the difference between train and test and spot underfitting and overfitting"
   ]
  },
  {
   "cell_type": "markdown",
   "metadata": {},
   "source": [
    "Technical Steps - using a loop:\n",
    "1. Pick a range of depth values (e.g. 20 levels)\n",
    "2. Define an index value (i) based on the increasing depth\n",
    "3. Train the model for X_train\n",
    "4. Predict the model for X_train and X_test\n",
    "5. Calculate the accuracy of both train and test\n",
    "6. Append the values into a list\n",
    "7. Plot the comparison between train and test performance"
   ]
  },
  {
   "cell_type": "code",
   "execution_count": 10,
   "metadata": {},
   "outputs": [
    {
     "data": {
      "text/plain": [
       "[1, 2, 3, 4, 5, 6, 7, 8, 9, 10, 11, 12, 13, 14, 15, 16, 17, 18, 19, 20]"
      ]
     },
     "execution_count": 10,
     "metadata": {},
     "output_type": "execute_result"
    }
   ],
   "source": [
    "# create 2 blank lists\n",
    "\n",
    "train_scores, test_scores = list(), list()\n",
    "\n",
    "values = range(1,21)\n",
    "list(values)"
   ]
  },
  {
   "cell_type": "code",
   "execution_count": 11,
   "metadata": {},
   "outputs": [
    {
     "name": "stdout",
     "output_type": "stream",
     "text": [
      "max_depth=1 \t| train score:0.668 \t| test score:0.668\n",
      "max_depth=2 \t| train score:0.710 \t| test score:0.693\n",
      "max_depth=3 \t| train score:0.796 \t| test score:0.781\n",
      "max_depth=4 \t| train score:0.846 \t| test score:0.838\n",
      "max_depth=5 \t| train score:0.869 \t| test score:0.851\n",
      "max_depth=6 \t| train score:0.900 \t| test score:0.874\n",
      "max_depth=7 \t| train score:0.917 \t| test score:0.879\n",
      "max_depth=8 \t| train score:0.934 \t| test score:0.881\n",
      "max_depth=9 \t| train score:0.946 \t| test score:0.887\n",
      "max_depth=10 \t| train score:0.959 \t| test score:0.882\n",
      "max_depth=11 \t| train score:0.968 \t| test score:0.880\n",
      "max_depth=12 \t| train score:0.976 \t| test score:0.879\n",
      "max_depth=13 \t| train score:0.982 \t| test score:0.873\n",
      "max_depth=14 \t| train score:0.986 \t| test score:0.872\n",
      "max_depth=15 \t| train score:0.990 \t| test score:0.870\n",
      "max_depth=16 \t| train score:0.994 \t| test score:0.868\n",
      "max_depth=17 \t| train score:0.995 \t| test score:0.866\n",
      "max_depth=18 \t| train score:0.997 \t| test score:0.861\n",
      "max_depth=19 \t| train score:0.998 \t| test score:0.867\n",
      "max_depth=20 \t| train score:0.998 \t| test score:0.865\n"
     ]
    }
   ],
   "source": [
    "# build the automation loop\n",
    "\n",
    "for i in values:\n",
    "    # define the model\n",
    "    dtc_model = DecisionTreeClassifier(max_depth=i)\n",
    "\n",
    "    # fit the model\n",
    "    dtc_model.fit(X_train, y_train)\n",
    "\n",
    "    # get prediction for the train data and calculate accuracy\n",
    "    y_pred_train = dtc_model.predict(X_train)\n",
    "    train_accu = accuracy_score(y_train, y_pred_train)\n",
    "\n",
    "    # get prediction for the test data and calculate accuracy\n",
    "    y_pred_test = dtc_model.predict(X_test)\n",
    "    test_accu = accuracy_score(y_test, y_pred_test)\n",
    "\n",
    "    #append the values into our lists\n",
    "    train_scores.append(train_accu)\n",
    "    test_scores.append(test_accu)\n",
    "\n",
    "    #log our results\n",
    "    print(f'max_depth={i} \\t| train score:{train_accu:.3f} \\t| test score:{test_accu:.3f}')\n",
    "\n"
   ]
  },
  {
   "cell_type": "code",
   "execution_count": 12,
   "metadata": {},
   "outputs": [],
   "source": [
    "plt.style.use('ggplot')"
   ]
  },
  {
   "cell_type": "code",
   "execution_count": 17,
   "metadata": {},
   "outputs": [
    {
     "data": {
      "text/plain": [
       "<matplotlib.legend.Legend at 0x29e4cf1d0>"
      ]
     },
     "execution_count": 17,
     "metadata": {},
     "output_type": "execute_result"
    },
    {
     "data": {
      "image/png": "[encoded data removed]",
      "text/plain": [
       "<Figure size 1000x700 with 1 Axes>"
      ]
     },
     "metadata": {},
     "output_type": "display_data"
    }
   ],
   "source": [
    "plt.figure(figsize=(10,7))\n",
    "plt.plot(values, train_scores, '-o', label='Train', color='slateblue')\n",
    "plt.plot(values, test_scores, '-o', label='Test', color='orange')\n",
    "\n",
    "plt.title('Train vs Test Data Accuracy Comparison Based on Model Complexity')\n",
    "plt.ylabel('Accuracy')\n",
    "plt.xlabel('Level of Complexity (max_depth)')\n",
    "plt.xticks(values)\n",
    "plt.legend()"
   ]
  },
  {
   "cell_type": "markdown",
   "metadata": {},
   "source": [
    "**Observations**\n",
    "- As the `max_depth` increases, the accuracy of the test data plateaus and declines slightly\n",
    "- The range of underfitting is between 1 and 3\n",
    "- The range of overfitting is between 10 and 20\n",
    "- The *optimal** range for a good fit is between 4 and 9"
   ]
  },
  {
   "cell_type": "code",
   "execution_count": null,
   "metadata": {},
   "outputs": [],
   "source": []
  }
 ],
 "metadata": {
  "kernelspec": {
   "display_name": "Python 3",
   "language": "python",
   "name": "python3"
  },
  "language_info": {
   "codemirror_mode": {
    "name": "ipython",
    "version": 3
   },
   "file_extension": ".py",
   "mimetype": "text/x-python",
   "name": "python",
   "nbconvert_exporter": "python",
   "pygments_lexer": "ipython3",
   "version": "3.11.3"
  }
 },
 "nbformat": 4,
 "nbformat_minor": 2
}
